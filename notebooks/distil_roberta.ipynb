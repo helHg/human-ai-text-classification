{
  "cells": [
    {
      "cell_type": "markdown",
      "metadata": {
        "id": "U-dBPCsZ9OYN"
      },
      "source": [
        "# Google Colab Set Up"
      ]
    },
    {
      "cell_type": "code",
      "source": [
        "from google.colab import drive\n",
        "drive.mount('/content/drive')"
      ],
      "metadata": {
        "colab": {
          "base_uri": "https://localhost:8080/"
        },
        "id": "bv5z4B9f9UNC",
        "outputId": "b048acdf-151b-4cf3-8912-776ee673e891"
      },
      "execution_count": 2,
      "outputs": [
        {
          "output_type": "stream",
          "name": "stdout",
          "text": [
            "Drive already mounted at /content/drive; to attempt to forcibly remount, call drive.mount(\"/content/drive\", force_remount=True).\n"
          ]
        }
      ]
    },
    {
      "cell_type": "code",
      "source": [
        "!pip install datasets"
      ],
      "metadata": {
        "colab": {
          "base_uri": "https://localhost:8080/"
        },
        "id": "l0R348dE-wpE",
        "outputId": "14cfd709-11f2-42a5-ad2f-2cf1482d1f4b"
      },
      "execution_count": 3,
      "outputs": [
        {
          "output_type": "stream",
          "name": "stdout",
          "text": [
            "Requirement already satisfied: datasets in /usr/local/lib/python3.10/dist-packages (3.1.0)\n",
            "Requirement already satisfied: filelock in /usr/local/lib/python3.10/dist-packages (from datasets) (3.16.1)\n",
            "Requirement already satisfied: numpy>=1.17 in /usr/local/lib/python3.10/dist-packages (from datasets) (1.26.4)\n",
            "Requirement already satisfied: pyarrow>=15.0.0 in /usr/local/lib/python3.10/dist-packages (from datasets) (17.0.0)\n",
            "Requirement already satisfied: dill<0.3.9,>=0.3.0 in /usr/local/lib/python3.10/dist-packages (from datasets) (0.3.8)\n",
            "Requirement already satisfied: pandas in /usr/local/lib/python3.10/dist-packages (from datasets) (2.2.2)\n",
            "Requirement already satisfied: requests>=2.32.2 in /usr/local/lib/python3.10/dist-packages (from datasets) (2.32.3)\n",
            "Requirement already satisfied: tqdm>=4.66.3 in /usr/local/lib/python3.10/dist-packages (from datasets) (4.66.6)\n",
            "Requirement already satisfied: xxhash in /usr/local/lib/python3.10/dist-packages (from datasets) (3.5.0)\n",
            "Requirement already satisfied: multiprocess<0.70.17 in /usr/local/lib/python3.10/dist-packages (from datasets) (0.70.16)\n",
            "Requirement already satisfied: fsspec<=2024.9.0,>=2023.1.0 in /usr/local/lib/python3.10/dist-packages (from fsspec[http]<=2024.9.0,>=2023.1.0->datasets) (2024.9.0)\n",
            "Requirement already satisfied: aiohttp in /usr/local/lib/python3.10/dist-packages (from datasets) (3.11.2)\n",
            "Requirement already satisfied: huggingface-hub>=0.23.0 in /usr/local/lib/python3.10/dist-packages (from datasets) (0.26.2)\n",
            "Requirement already satisfied: packaging in /usr/local/lib/python3.10/dist-packages (from datasets) (24.2)\n",
            "Requirement already satisfied: pyyaml>=5.1 in /usr/local/lib/python3.10/dist-packages (from datasets) (6.0.2)\n",
            "Requirement already satisfied: aiohappyeyeballs>=2.3.0 in /usr/local/lib/python3.10/dist-packages (from aiohttp->datasets) (2.4.3)\n",
            "Requirement already satisfied: aiosignal>=1.1.2 in /usr/local/lib/python3.10/dist-packages (from aiohttp->datasets) (1.3.1)\n",
            "Requirement already satisfied: attrs>=17.3.0 in /usr/local/lib/python3.10/dist-packages (from aiohttp->datasets) (24.2.0)\n",
            "Requirement already satisfied: frozenlist>=1.1.1 in /usr/local/lib/python3.10/dist-packages (from aiohttp->datasets) (1.5.0)\n",
            "Requirement already satisfied: multidict<7.0,>=4.5 in /usr/local/lib/python3.10/dist-packages (from aiohttp->datasets) (6.1.0)\n",
            "Requirement already satisfied: propcache>=0.2.0 in /usr/local/lib/python3.10/dist-packages (from aiohttp->datasets) (0.2.0)\n",
            "Requirement already satisfied: yarl<2.0,>=1.17.0 in /usr/local/lib/python3.10/dist-packages (from aiohttp->datasets) (1.17.2)\n",
            "Requirement already satisfied: async-timeout<6.0,>=4.0 in /usr/local/lib/python3.10/dist-packages (from aiohttp->datasets) (4.0.3)\n",
            "Requirement already satisfied: typing-extensions>=3.7.4.3 in /usr/local/lib/python3.10/dist-packages (from huggingface-hub>=0.23.0->datasets) (4.12.2)\n",
            "Requirement already satisfied: charset-normalizer<4,>=2 in /usr/local/lib/python3.10/dist-packages (from requests>=2.32.2->datasets) (3.4.0)\n",
            "Requirement already satisfied: idna<4,>=2.5 in /usr/local/lib/python3.10/dist-packages (from requests>=2.32.2->datasets) (3.10)\n",
            "Requirement already satisfied: urllib3<3,>=1.21.1 in /usr/local/lib/python3.10/dist-packages (from requests>=2.32.2->datasets) (2.2.3)\n",
            "Requirement already satisfied: certifi>=2017.4.17 in /usr/local/lib/python3.10/dist-packages (from requests>=2.32.2->datasets) (2024.8.30)\n",
            "Requirement already satisfied: python-dateutil>=2.8.2 in /usr/local/lib/python3.10/dist-packages (from pandas->datasets) (2.8.2)\n",
            "Requirement already satisfied: pytz>=2020.1 in /usr/local/lib/python3.10/dist-packages (from pandas->datasets) (2024.2)\n",
            "Requirement already satisfied: tzdata>=2022.7 in /usr/local/lib/python3.10/dist-packages (from pandas->datasets) (2024.2)\n",
            "Requirement already satisfied: six>=1.5 in /usr/local/lib/python3.10/dist-packages (from python-dateutil>=2.8.2->pandas->datasets) (1.16.0)\n"
          ]
        }
      ]
    },
    {
      "cell_type": "markdown",
      "source": [],
      "metadata": {
        "id": "Kn9eOCn2-3vj"
      }
    },
    {
      "cell_type": "markdown",
      "source": [
        "# Imports"
      ],
      "metadata": {
        "id": "bUdN7s-D-5ld"
      }
    },
    {
      "cell_type": "code",
      "execution_count": 46,
      "metadata": {
        "id": "0I1BZUV79OYP"
      },
      "outputs": [],
      "source": [
        "# standard imports\n",
        "import json\n",
        "import re\n",
        "\n",
        "# installed imports\n",
        "import numpy as np\n",
        "import pandas as pd\n",
        "from datasets import Dataset\n",
        "import matplotlib.pyplot as plt\n",
        "from sklearn.metrics import (\n",
        "    classification_report,\n",
        "    precision_score,\n",
        "    recall_score,\n",
        "    accuracy_score,\n",
        "    precision_recall_fscore_support,\n",
        ")\n",
        "from sklearn.metrics import confusion_matrix, ConfusionMatrixDisplay\n",
        "from sklearn.model_selection import train_test_split\n",
        "from sklearn.utils.class_weight import compute_class_weight\n",
        "import torch\n",
        "import torch.nn as nn\n",
        "from transformers import (\n",
        "    AutoConfig,\n",
        "    AutoModelForSequenceClassification,\n",
        "    AutoTokenizer,\n",
        "    DataCollatorWithPadding,\n",
        "    RobertaTokenizer,  # tokenizer for DistilRoBERTa\n",
        "    RobertaForSequenceClassification,  # base RoBERTa model\n",
        "    Trainer,\n",
        "    TrainingArguments,\n",
        ")\n",
        "from transformers.modeling_outputs import SequenceClassifierOutput\n",
        "\n"
      ]
    },
    {
      "cell_type": "code",
      "execution_count": 5,
      "metadata": {
        "colab": {
          "base_uri": "https://localhost:8080/"
        },
        "id": "rIU-v-i_9OYQ",
        "outputId": "3acb1da7-227c-453c-e84d-9f86c77f94e6"
      },
      "outputs": [
        {
          "output_type": "stream",
          "name": "stdout",
          "text": [
            "GPU available: True\n"
          ]
        }
      ],
      "source": [
        "print(\"GPU available:\", torch.cuda.is_available())"
      ]
    },
    {
      "cell_type": "markdown",
      "metadata": {
        "id": "mGvPlXV_9OYQ"
      },
      "source": [
        "# Global Constants"
      ]
    },
    {
      "cell_type": "code",
      "execution_count": 6,
      "metadata": {
        "id": "AN45jBCZ9OYR"
      },
      "outputs": [],
      "source": [
        "# paths to the datasets\n",
        "train_file_path = \"/content/drive/MyDrive/Colab Notebooks/COLING_2025_MGT_Workshop_Task1/en_train.jsonl\"\n",
        "val_file_path = \"/content/drive/MyDrive/Colab Notebooks/COLING_2025_MGT_Workshop_Task1/en_dev.jsonl\"\n",
        "test_file_path = \"/content/drive/MyDrive/Colab Notebooks/COLING_2025_MGT_Workshop_Task1/test_set_en_with_label.jsonl\"\n",
        "\n",
        "# constants\n",
        "RANDOM_SEED = 42"
      ]
    },
    {
      "cell_type": "markdown",
      "metadata": {
        "id": "W-TAYdyF9OYR"
      },
      "source": [
        "# 1. Data Preparation\n"
      ]
    },
    {
      "cell_type": "markdown",
      "source": [
        "## 1.1. Load JSONL Files"
      ],
      "metadata": {
        "id": "U27bR7iFiQW5"
      }
    },
    {
      "cell_type": "code",
      "execution_count": 7,
      "metadata": {
        "id": "-g1uC0lF9OYR"
      },
      "outputs": [],
      "source": [
        "def load_jsonl(file_path):\n",
        "    \"\"\"\n",
        "    Load a JSONL file and return a pandas DataFrame.\n",
        "\n",
        "    Args:\n",
        "        file_path (str): The path to the JSONL file.\n",
        "\n",
        "    Returns:\n",
        "        pd.DataFrame: DataFrame containing the JSONL file's data.\n",
        "    \"\"\"\n",
        "    with open(file_path, 'r') as file:\n",
        "        data = [json.loads(line) for line in file]  # read each line and parse as JSON\n",
        "    return pd.DataFrame(data)  # convert to DataFrame\n"
      ]
    },
    {
      "cell_type": "markdown",
      "metadata": {
        "id": "yEqoRXnB9OYR"
      },
      "source": [
        "## 1.2. Load Datasets"
      ]
    },
    {
      "cell_type": "code",
      "execution_count": 8,
      "metadata": {
        "id": "o6IBeZ729OYR"
      },
      "outputs": [],
      "source": [
        "full_train_df = load_jsonl(train_file_path)\n",
        "full_val_df = load_jsonl(val_file_path)\n",
        "full_test_df = load_jsonl(test_file_path)"
      ]
    },
    {
      "cell_type": "code",
      "execution_count": 54,
      "metadata": {
        "id": "reRSjth09OYS"
      },
      "outputs": [],
      "source": [
        "# only keep relevant columns\n",
        "train_df = full_train_df[[\"text\", \"label\"]]\n",
        "val_df = full_val_df[[\"text\", \"label\"]]\n",
        "test_df = full_test_df[[\"text\", \"label\"]]"
      ]
    },
    {
      "cell_type": "code",
      "execution_count": 55,
      "metadata": {
        "colab": {
          "base_uri": "https://localhost:8080/"
        },
        "id": "TBuPrwJl9OYS",
        "outputId": "0d98b9cc-a8fc-4af6-f962-96125cc21ab2"
      },
      "outputs": [
        {
          "output_type": "stream",
          "name": "stderr",
          "text": [
            "<ipython-input-55-e6c2d34d4884>:2: SettingWithCopyWarning: \n",
            "A value is trying to be set on a copy of a slice from a DataFrame\n",
            "\n",
            "See the caveats in the documentation: https://pandas.pydata.org/pandas-docs/stable/user_guide/indexing.html#returning-a-view-versus-a-copy\n",
            "  train_df.rename(columns={\"label\": \"labels\"}, inplace=True)\n",
            "<ipython-input-55-e6c2d34d4884>:3: SettingWithCopyWarning: \n",
            "A value is trying to be set on a copy of a slice from a DataFrame\n",
            "\n",
            "See the caveats in the documentation: https://pandas.pydata.org/pandas-docs/stable/user_guide/indexing.html#returning-a-view-versus-a-copy\n",
            "  val_df.rename(columns={\"label\": \"labels\"}, inplace=True)\n",
            "<ipython-input-55-e6c2d34d4884>:4: SettingWithCopyWarning: \n",
            "A value is trying to be set on a copy of a slice from a DataFrame\n",
            "\n",
            "See the caveats in the documentation: https://pandas.pydata.org/pandas-docs/stable/user_guide/indexing.html#returning-a-view-versus-a-copy\n",
            "  test_df.rename(columns={\"label\": \"labels\"}, inplace=True)\n"
          ]
        }
      ],
      "source": [
        "# rename \"label\" column to \"labels\"\n",
        "train_df.rename(columns={\"label\": \"labels\"}, inplace=True)\n",
        "val_df.rename(columns={\"label\": \"labels\"}, inplace=True)\n",
        "test_df.rename(columns={\"label\": \"labels\"}, inplace=True)"
      ]
    },
    {
      "cell_type": "code",
      "execution_count": 56,
      "metadata": {
        "colab": {
          "base_uri": "https://localhost:8080/"
        },
        "id": "t44i-m8F9OYS",
        "outputId": "baf199b6-277f-4c94-943d-bfc0aa8f28d3"
      },
      "outputs": [
        {
          "output_type": "stream",
          "name": "stdout",
          "text": [
            "training set size: 610767\n",
            "validation set size: 261758\n",
            "test set size: 73941\n"
          ]
        }
      ],
      "source": [
        "print(f\"training set size: {len(train_df)}\")\n",
        "print(f\"validation set size: {len(val_df)}\")\n",
        "print(f\"test set size: {len(test_df)}\")"
      ]
    },
    {
      "cell_type": "code",
      "source": [
        "len(train_df) * 0.5"
      ],
      "metadata": {
        "colab": {
          "base_uri": "https://localhost:8080/"
        },
        "id": "jHwHsNmRiZ16",
        "outputId": "5b60c708-67e0-452b-fa7f-37c6ab4adebd"
      },
      "execution_count": 12,
      "outputs": [
        {
          "output_type": "execute_result",
          "data": {
            "text/plain": [
              "305383.5"
            ]
          },
          "metadata": {},
          "execution_count": 12
        }
      ]
    },
    {
      "cell_type": "code",
      "source": [
        "len(val_df) * 0.2"
      ],
      "metadata": {
        "colab": {
          "base_uri": "https://localhost:8080/"
        },
        "id": "VM71xTBzi_71",
        "outputId": "35666652-cb44-40ed-f5c9-5cd7809232ae"
      },
      "execution_count": 13,
      "outputs": [
        {
          "output_type": "execute_result",
          "data": {
            "text/plain": [
              "52351.600000000006"
            ]
          },
          "metadata": {},
          "execution_count": 13
        }
      ]
    },
    {
      "cell_type": "code",
      "source": [
        "300/(350)"
      ],
      "metadata": {
        "colab": {
          "base_uri": "https://localhost:8080/"
        },
        "id": "2xN_g1lrjRaC",
        "outputId": "daab58f9-7a16-42a0-ed5e-aac21b03b848"
      },
      "execution_count": 14,
      "outputs": [
        {
          "output_type": "execute_result",
          "data": {
            "text/plain": [
              "0.8571428571428571"
            ]
          },
          "metadata": {},
          "execution_count": 14
        }
      ]
    },
    {
      "cell_type": "markdown",
      "metadata": {
        "id": "8A5f-uOZ9OYS"
      },
      "source": [
        "## 1.3. Reduce Datasets"
      ]
    },
    {
      "cell_type": "code",
      "execution_count": 57,
      "metadata": {
        "id": "mLaEdt7G9OYS"
      },
      "outputs": [],
      "source": [
        "# define proportions\n",
        "training_fraction = 0.5  # use 50% of the current training set\n",
        "validation_fraction = 0.20  # use 20% of the current validation set\n",
        "#test_fraction = 1  # use % of the current test set\n",
        "\n",
        "\n",
        "# reduce training set\n",
        "train_df, _ = train_test_split(\n",
        "    train_df,\n",
        "    test_size=1 - training_fraction,\n",
        "    stratify=train_df[\"labels\"],  # maintain label distribution\n",
        "    random_state=RANDOM_SEED,\n",
        ")\n",
        "\n",
        "# reduce validation set\n",
        "val_df, _ = train_test_split(\n",
        "    val_df,\n",
        "    test_size=1 - validation_fraction,\n",
        "    stratify=val_df[\"labels\"],  # maintain label distribution\n",
        "    random_state=RANDOM_SEED,\n",
        ")\n",
        "\n",
        "# reduce test set\n",
        "#test_df, _ = train_test_split(\n",
        "#    test_df,\n",
        "#    test_size=1 - test_fraction,\n",
        "#    stratify=test_df[\"labels\"],  # maintain label distribution\n",
        "#    random_state=RANDOM_SEED,\n",
        "#)\n"
      ]
    },
    {
      "cell_type": "code",
      "execution_count": 58,
      "metadata": {
        "colab": {
          "base_uri": "https://localhost:8080/"
        },
        "id": "wUg5V_OU9OYS",
        "outputId": "2a2aaa9d-cea1-4e40-ca6f-870dc0caa775"
      },
      "outputs": [
        {
          "output_type": "stream",
          "name": "stdout",
          "text": [
            "reduced training set: 305383\n",
            "reduced validation set: 52351\n",
            "reduced test set: 73941\n"
          ]
        }
      ],
      "source": [
        "# display the new sizes\n",
        "print(f\"reduced training set: {len(train_df)}\")\n",
        "print(f\"reduced validation set: {len(val_df)}\")\n",
        "print(f\"reduced test set: {len(test_df)}\")"
      ]
    },
    {
      "cell_type": "markdown",
      "metadata": {
        "id": "JLHUZf1m9OYT"
      },
      "source": [
        "## 1.4. Convert DataFrames to HuggingFace Datasets"
      ]
    },
    {
      "cell_type": "code",
      "execution_count": 59,
      "metadata": {
        "id": "itIX-H-W9OYT"
      },
      "outputs": [],
      "source": [
        "# convert datasets to Hugging Face Dataset format\n",
        "train_dataset = Dataset.from_pandas(train_df)\n",
        "val_dataset = Dataset.from_pandas(val_df)\n",
        "test_dataset = Dataset.from_pandas(test_df)"
      ]
    },
    {
      "cell_type": "code",
      "execution_count": 18,
      "metadata": {
        "colab": {
          "base_uri": "https://localhost:8080/"
        },
        "id": "VXhP8_IG9OYT",
        "outputId": "fd1f0d89-04c0-416d-d2f0-b08a10640266"
      },
      "outputs": [
        {
          "output_type": "execute_result",
          "data": {
            "text/plain": [
              "Dataset({\n",
              "    features: ['text', 'labels', '__index_level_0__'],\n",
              "    num_rows: 305383\n",
              "})"
            ]
          },
          "metadata": {},
          "execution_count": 18
        }
      ],
      "source": [
        "train_dataset"
      ]
    },
    {
      "cell_type": "markdown",
      "metadata": {
        "id": "3B-nZGFy9OYT"
      },
      "source": [
        "# 2. Tokenization"
      ]
    },
    {
      "cell_type": "code",
      "execution_count": 60,
      "metadata": {
        "id": "yQtyDOp_9OYT"
      },
      "outputs": [],
      "source": [
        "def tokenize_function(examples):\n",
        "    \"\"\"\n",
        "    Tokenize text data using a pre-trained DistilRoBERTa tokenizer.\n",
        "\n",
        "    Args:\n",
        "        examples (dict): Dictionary containing text data.\n",
        "\n",
        "    Returns:\n",
        "        dict: Tokenized inputs with truncation and padding.\n",
        "    \"\"\"\n",
        "    from transformers import AutoTokenizer  # import inside the function for worker processes\n",
        "    tokenizer = AutoTokenizer.from_pretrained(\"distilroberta-base\")  # initialize tokenizer in each process\n",
        "    return tokenizer(\n",
        "        examples[\"text\"],\n",
        "        truncation=True,  # truncate sequences longer than 512 tokens\n",
        "        padding=\"max_length\",  # pad shorter sequences to 512 tokens\n",
        "        max_length=512,  # set maximum token length\n",
        "    )"
      ]
    },
    {
      "cell_type": "code",
      "execution_count": 61,
      "metadata": {
        "colab": {
          "base_uri": "https://localhost:8080/",
          "height": 113,
          "referenced_widgets": [
            "b61dca1864da4539ba317be9dd6c124c",
            "3d66202161294ea4ac44bf1473a5a05b",
            "253d363d2d8944b4a801dfe22b3c4f7f",
            "920f16d8f9554b47ae983c07b94422cc",
            "f8e0bd020c1f4e2e9ef84fd45272688d",
            "73c3c05899824abd8b6f2d5cd730e45e",
            "8dba98f346bf4dd4ac3fb0eef836e3f6",
            "8b23c632e9f045a6821df7c4c7366d7d",
            "a6caf149d3d94a22a3d13c29446dad66",
            "1d58424749b34b118716d8c6506d5a5a",
            "ad52411ee8184379bcdebdf1e11525d9",
            "2514733f3e1f4317bee137b355b086e8",
            "521aef4cdcd04059aa4d9bf0acb43b47",
            "42a60ca1d3b2475081920cf8dbc76060",
            "95904434b6094044b696d6e0e263fdb6",
            "e045bc7c0965469380bccf2cd3ca2f86",
            "027c3514a4df489da9b2d1905cdded65",
            "f2fe0cf7cfab4e7c8bab5d7b37474bbc",
            "873a2f3f3d9047309365e7d45fbf5416",
            "e83b43ebd5d444558246dcf4165d6bf7",
            "0cf38155b99a4c4581a4864ba9aaeced",
            "21356aee4c0044e28bc36e3848000fdf",
            "a30ca05ff9384120a7472691d6c889a4",
            "2048f5844c9b420e92c5735ad5635bc6",
            "98924485646f4e0d85a9fbfb9add1e60",
            "2b08d5742239479e9b8d638f160a0539",
            "17eb7eba88e5465a89d96accee610375",
            "d5f9c57591d0427c8fb99b5009a9550c",
            "37e9cbb70d6b4b53a036cfd46fecf59e",
            "279f542286b84e9280acb5a1a852a3cc",
            "32b7ed00d6f54b3ab7194932710d9909",
            "4582821ea6294f64859ff4b0fef6faac",
            "4bbc6ae8024140768b94ec8cd077d89f"
          ]
        },
        "id": "qkjh3psD9OYT",
        "outputId": "6ded398d-c6da-4688-e6af-251e48385f20"
      },
      "outputs": [
        {
          "output_type": "display_data",
          "data": {
            "text/plain": [
              "Map (num_proc=8):   0%|          | 0/305383 [00:00<?, ? examples/s]"
            ],
            "application/vnd.jupyter.widget-view+json": {
              "version_major": 2,
              "version_minor": 0,
              "model_id": "b61dca1864da4539ba317be9dd6c124c"
            }
          },
          "metadata": {}
        },
        {
          "output_type": "display_data",
          "data": {
            "text/plain": [
              "Map (num_proc=8):   0%|          | 0/52351 [00:00<?, ? examples/s]"
            ],
            "application/vnd.jupyter.widget-view+json": {
              "version_major": 2,
              "version_minor": 0,
              "model_id": "2514733f3e1f4317bee137b355b086e8"
            }
          },
          "metadata": {}
        },
        {
          "output_type": "display_data",
          "data": {
            "text/plain": [
              "Map (num_proc=8):   0%|          | 0/73941 [00:00<?, ? examples/s]"
            ],
            "application/vnd.jupyter.widget-view+json": {
              "version_major": 2,
              "version_minor": 0,
              "model_id": "a30ca05ff9384120a7472691d6c889a4"
            }
          },
          "metadata": {}
        }
      ],
      "source": [
        "# tokenize datasets\n",
        "train_dataset = train_dataset.map(tokenize_function, batched=True, batch_size=500, num_proc=8)\n",
        "val_dataset = val_dataset.map(tokenize_function, batched=True, batch_size=500, num_proc=8)\n",
        "test_dataset = test_dataset.map(tokenize_function, batched=True, batch_size=500, num_proc=8)\n"
      ]
    },
    {
      "cell_type": "code",
      "execution_count": 62,
      "metadata": {
        "id": "BlG5ju-e9OYT"
      },
      "outputs": [],
      "source": [
        "# set format for PyTorch (required by Trainer)\n",
        "train_dataset.set_format(type=\"torch\", columns=[\"input_ids\", \"attention_mask\", \"labels\"])\n",
        "val_dataset.set_format(type=\"torch\", columns=[\"input_ids\", \"attention_mask\", \"labels\"])\n",
        "test_dataset.set_format(type=\"torch\", columns=[\"input_ids\", \"attention_mask\", \"labels\"])"
      ]
    },
    {
      "cell_type": "code",
      "execution_count": 63,
      "metadata": {
        "colab": {
          "base_uri": "https://localhost:8080/"
        },
        "id": "Kyw3N45J9OYT",
        "outputId": "05f687ec-4629-40c0-b7ef-9eb4a0288162"
      },
      "outputs": [
        {
          "output_type": "stream",
          "name": "stdout",
          "text": [
            "['text', 'labels', '__index_level_0__', 'input_ids', 'attention_mask']\n",
            "['text', 'labels', '__index_level_0__', 'input_ids', 'attention_mask']\n",
            "['text', 'labels', 'input_ids', 'attention_mask']\n"
          ]
        }
      ],
      "source": [
        "print(train_dataset.column_names)  # should include ['input_ids', 'attention_mask', 'labels']\n",
        "print(val_dataset.column_names)  # should include ['input_ids', 'attention_mask', 'labels']\n",
        "print(test_dataset.column_names)  # should include ['input_ids', 'attention_mask', 'labels']"
      ]
    },
    {
      "cell_type": "code",
      "execution_count": 64,
      "metadata": {
        "id": "_Hbyf-_k9OYT"
      },
      "outputs": [],
      "source": [
        "# remove unnecessary columns\n",
        "train_dataset = train_dataset.remove_columns([\"__index_level_0__\", \"text\"])\n",
        "val_dataset = val_dataset.remove_columns([\"__index_level_0__\", \"text\"])\n",
        "test_dataset = test_dataset.remove_columns([\"text\"])"
      ]
    },
    {
      "cell_type": "code",
      "execution_count": 65,
      "metadata": {
        "colab": {
          "base_uri": "https://localhost:8080/"
        },
        "id": "1fSQf2Sj9OYT",
        "outputId": "004026ab-064f-43c9-b5fb-47b2f0db149a"
      },
      "outputs": [
        {
          "output_type": "stream",
          "name": "stdout",
          "text": [
            "['labels', 'input_ids', 'attention_mask']\n",
            "['labels', 'input_ids', 'attention_mask']\n",
            "['labels', 'input_ids', 'attention_mask']\n"
          ]
        }
      ],
      "source": [
        "print(train_dataset.column_names)\n",
        "print(val_dataset.column_names)\n",
        "print(test_dataset.column_names)"
      ]
    },
    {
      "cell_type": "markdown",
      "metadata": {
        "id": "fIcxh-P_9OYU"
      },
      "source": [
        "# 3. Compute Class Weights"
      ]
    },
    {
      "cell_type": "code",
      "execution_count": 30,
      "metadata": {
        "colab": {
          "base_uri": "https://localhost:8080/"
        },
        "id": "fDQrJaL89OYU",
        "outputId": "c3ecf6c9-b723-41f2-e016-24f28eed6e1d"
      },
      "outputs": [
        {
          "output_type": "stream",
          "name": "stdout",
          "text": [
            "Class Weights: tensor([1.3340, 0.7998])\n"
          ]
        }
      ],
      "source": [
        "# compute class weights\n",
        "class_weights = compute_class_weight(\n",
        "    class_weight=\"balanced\",\n",
        "    classes=np.array([0, 1]),  # convert classes to a NumPy array\n",
        "    y=train_df[\"labels\"].values  # labels from your training data\n",
        ")\n",
        "\n",
        "# convert to a PyTorch tensor\n",
        "class_weights = torch.tensor(class_weights, dtype=torch.float)\n",
        "print(f\"Class Weights: {class_weights}\")"
      ]
    },
    {
      "cell_type": "markdown",
      "metadata": {
        "id": "n3_5V-7w9OYU"
      },
      "source": [
        "# 4. Custom DistilRoBERTa Model with Weighted Loss"
      ]
    },
    {
      "cell_type": "code",
      "source": [
        "class CustomDistilRobertaForSequenceClassification(nn.Module):\n",
        "    \"\"\"\n",
        "    Custom DistilRoBERTa model for sequence classification with weighted loss.\n",
        "    \"\"\"\n",
        "\n",
        "    def __init__(self, pretrained_model_name_or_path=None, num_labels=None, class_weights=None, config=None):\n",
        "        \"\"\"\n",
        "        Initializes the custom model for sequence classification with weighted loss.\n",
        "\n",
        "        Args:\n",
        "            pretrained_model_name_or_path (str): Path or name of the pretrained model.\n",
        "            num_labels (int): Number of labels for classification.\n",
        "            class_weights (torch.Tensor): Class weights for handling imbalanced datasets.\n",
        "            config (transformers.PretrainedConfig): Configuration object.\n",
        "        \"\"\"\n",
        "        super().__init__()\n",
        "\n",
        "        if config is None:\n",
        "            # create a config if none is provided\n",
        "            config = AutoConfig.from_pretrained(pretrained_model_name_or_path, num_labels=num_labels)\n",
        "\n",
        "        self.class_weights = class_weights  # store class weights\n",
        "\n",
        "        # load the base model\n",
        "        self.model = AutoModelForSequenceClassification.from_pretrained(pretrained_model_name_or_path, config=config)\n",
        "\n",
        "    def forward(self, input_ids=None, attention_mask=None, labels=None, **kwargs):\n",
        "        # forward pass through the base model\n",
        "        outputs = self.model(input_ids=input_ids, attention_mask=attention_mask, **kwargs)\n",
        "        logits = outputs.logits  # Extract logits\n",
        "\n",
        "        loss = None\n",
        "        if labels is not None:\n",
        "            # use weighted cross-entropy loss\n",
        "            loss_fn = nn.CrossEntropyLoss(weight=self.class_weights.to(logits.device))\n",
        "            loss = loss_fn(logits, labels)\n",
        "\n",
        "        # return the output as a SequenceClassifierOutput object\n",
        "        return SequenceClassifierOutput(\n",
        "            loss=loss,\n",
        "            logits=logits,\n",
        "            hidden_states=outputs.hidden_states,\n",
        "            attentions=outputs.attentions,\n",
        "        )\n"
      ],
      "metadata": {
        "id": "5keAoYeXRMnv"
      },
      "execution_count": 31,
      "outputs": []
    },
    {
      "cell_type": "code",
      "source": [
        "# instantiate the custom model\n",
        "model = CustomDistilRobertaForSequenceClassification(\n",
        "    pretrained_model_name_or_path=\"distilroberta-base\",\n",
        "    num_labels=2,\n",
        "    class_weights=class_weights\n",
        ")"
      ],
      "metadata": {
        "colab": {
          "base_uri": "https://localhost:8080/",
          "height": 214,
          "referenced_widgets": [
            "d49d8310896f4389b5b0f35e3eea617d",
            "9edd1dc9d676441aabb9779313d8b1ad",
            "770661df3a1d45c39fe4db2161fa6a18",
            "b1fe0ba1622d430a8713d8a3f282257b",
            "df41ccec18994380ae19cdd732ab1227",
            "5a8437a8b92b444aa2b22aaa58fa8212",
            "a6872f0012c8445aac0ae9fac4c8db5d",
            "223d67d33dd84d199fdfec17311cdec0",
            "2a5b05a662e04ac89a13e4fb0225181d",
            "019adaac9e9b4878b3e9d77cd752c7c7",
            "ed1557b3ea0b4d48bec6bbf746384b8a"
          ]
        },
        "id": "hknTGWWqUMEJ",
        "outputId": "1138d1f0-ffb2-4aff-f3d0-ba46ec52f727"
      },
      "execution_count": 32,
      "outputs": [
        {
          "output_type": "stream",
          "name": "stderr",
          "text": [
            "/usr/local/lib/python3.10/dist-packages/huggingface_hub/utils/_auth.py:94: UserWarning: \n",
            "The secret `HF_TOKEN` does not exist in your Colab secrets.\n",
            "To authenticate with the Hugging Face Hub, create a token in your settings tab (https://huggingface.co/settings/tokens), set it as secret in your Google Colab and restart your session.\n",
            "You will be able to reuse this secret in all of your notebooks.\n",
            "Please note that authentication is recommended but still optional to access public models or datasets.\n",
            "  warnings.warn(\n"
          ]
        },
        {
          "output_type": "display_data",
          "data": {
            "text/plain": [
              "model.safetensors:   0%|          | 0.00/331M [00:00<?, ?B/s]"
            ],
            "application/vnd.jupyter.widget-view+json": {
              "version_major": 2,
              "version_minor": 0,
              "model_id": "d49d8310896f4389b5b0f35e3eea617d"
            }
          },
          "metadata": {}
        },
        {
          "output_type": "stream",
          "name": "stderr",
          "text": [
            "Some weights of RobertaForSequenceClassification were not initialized from the model checkpoint at distilroberta-base and are newly initialized: ['classifier.dense.bias', 'classifier.dense.weight', 'classifier.out_proj.bias', 'classifier.out_proj.weight']\n",
            "You should probably TRAIN this model on a down-stream task to be able to use it for predictions and inference.\n"
          ]
        }
      ]
    },
    {
      "cell_type": "code",
      "execution_count": 33,
      "metadata": {
        "colab": {
          "base_uri": "https://localhost:8080/"
        },
        "id": "5Em-n0kp9OYU",
        "outputId": "ee33e757-95d3-46d4-adde-e40657bb0417"
      },
      "outputs": [
        {
          "output_type": "execute_result",
          "data": {
            "text/plain": [
              "CustomDistilRobertaForSequenceClassification(\n",
              "  (model): RobertaForSequenceClassification(\n",
              "    (roberta): RobertaModel(\n",
              "      (embeddings): RobertaEmbeddings(\n",
              "        (word_embeddings): Embedding(50265, 768, padding_idx=1)\n",
              "        (position_embeddings): Embedding(514, 768, padding_idx=1)\n",
              "        (token_type_embeddings): Embedding(1, 768)\n",
              "        (LayerNorm): LayerNorm((768,), eps=1e-05, elementwise_affine=True)\n",
              "        (dropout): Dropout(p=0.1, inplace=False)\n",
              "      )\n",
              "      (encoder): RobertaEncoder(\n",
              "        (layer): ModuleList(\n",
              "          (0-5): 6 x RobertaLayer(\n",
              "            (attention): RobertaAttention(\n",
              "              (self): RobertaSdpaSelfAttention(\n",
              "                (query): Linear(in_features=768, out_features=768, bias=True)\n",
              "                (key): Linear(in_features=768, out_features=768, bias=True)\n",
              "                (value): Linear(in_features=768, out_features=768, bias=True)\n",
              "                (dropout): Dropout(p=0.1, inplace=False)\n",
              "              )\n",
              "              (output): RobertaSelfOutput(\n",
              "                (dense): Linear(in_features=768, out_features=768, bias=True)\n",
              "                (LayerNorm): LayerNorm((768,), eps=1e-05, elementwise_affine=True)\n",
              "                (dropout): Dropout(p=0.1, inplace=False)\n",
              "              )\n",
              "            )\n",
              "            (intermediate): RobertaIntermediate(\n",
              "              (dense): Linear(in_features=768, out_features=3072, bias=True)\n",
              "              (intermediate_act_fn): GELUActivation()\n",
              "            )\n",
              "            (output): RobertaOutput(\n",
              "              (dense): Linear(in_features=3072, out_features=768, bias=True)\n",
              "              (LayerNorm): LayerNorm((768,), eps=1e-05, elementwise_affine=True)\n",
              "              (dropout): Dropout(p=0.1, inplace=False)\n",
              "            )\n",
              "          )\n",
              "        )\n",
              "      )\n",
              "    )\n",
              "    (classifier): RobertaClassificationHead(\n",
              "      (dense): Linear(in_features=768, out_features=768, bias=True)\n",
              "      (dropout): Dropout(p=0.1, inplace=False)\n",
              "      (out_proj): Linear(in_features=768, out_features=2, bias=True)\n",
              "    )\n",
              "  )\n",
              ")"
            ]
          },
          "metadata": {},
          "execution_count": 33
        }
      ],
      "source": [
        "# clear GPU cache\n",
        "torch.cuda.empty_cache()\n",
        "\n",
        "# move model to GPU\n",
        "device = torch.device(\"cuda\" if torch.cuda.is_available() else \"cpu\")\n",
        "model.to(device)"
      ]
    },
    {
      "cell_type": "code",
      "execution_count": 34,
      "metadata": {
        "colab": {
          "base_uri": "https://localhost:8080/"
        },
        "id": "A7SZ2OYT9OYU",
        "outputId": "26e5a224-d602-4a3d-b9c0-5695b6abf73b"
      },
      "outputs": [
        {
          "output_type": "stream",
          "name": "stdout",
          "text": [
            "cuda:0\n"
          ]
        }
      ],
      "source": [
        "print(next(model.parameters()).device)"
      ]
    },
    {
      "cell_type": "markdown",
      "metadata": {
        "id": "yMn6u2ht9OYU"
      },
      "source": [
        "# 5. Training"
      ]
    },
    {
      "cell_type": "markdown",
      "source": [
        "## 5.1. Training Set Up"
      ],
      "metadata": {
        "id": "VhaRByLXQ3s-"
      }
    },
    {
      "cell_type": "code",
      "source": [
        "def compute_metrics(eval_pred):\n",
        "    \"\"\"\n",
        "    Compute evaluation metrics: accuracy, precision, recall, F1 score, and eval_loss placeholder.\n",
        "\n",
        "    Args:\n",
        "        eval_pred (tuple): A tuple containing the predictions and true labels:\n",
        "            - logits (np.ndarray): Model predictions.\n",
        "            - labels (np.ndarray): True labels.\n",
        "\n",
        "    Returns:\n",
        "        dict: Dictionary containing accuracy, precision, recall, F1 score, and eval_loss.\n",
        "    \"\"\"\n",
        "    # debugging: print intermediate values\n",
        "    #print(f\"inside of compute_metrics() function!!\")\n",
        "\n",
        "    logits, labels = eval_pred  # unpack predictions and labels\n",
        "    predictions = logits.argmax(axis=-1)  # convert logits to predicted classes\n",
        "\n",
        "    # calculate precision, recall, and f1 using sklearn\n",
        "    precision, recall, f1, _ = precision_recall_fscore_support(labels, predictions, average=\"binary\")\n",
        "    accuracy = accuracy_score(labels, predictions)  # calculate accuracy\n",
        "\n",
        "    return {\n",
        "        \"accuracy\": accuracy,\n",
        "        \"precision\": precision,\n",
        "        \"recall\": recall,\n",
        "        \"f1\": f1,\n",
        "    }\n"
      ],
      "metadata": {
        "id": "4mIffzxuDwQv"
      },
      "execution_count": 35,
      "outputs": []
    },
    {
      "cell_type": "code",
      "execution_count": 41,
      "metadata": {
        "id": "5jtj2Kdh9OYU"
      },
      "outputs": [],
      "source": [
        "training_args = TrainingArguments(\n",
        "    output_dir=\"/content/drive/MyDrive/Colab Notebooks/comp6781-project/results\",  # directory to save results\n",
        "    eval_strategy=\"epoch\",  # evaluate at the end of each epoch\n",
        "    save_strategy=\"epoch\",  # save checkpoints at the end of each epoch\n",
        "    save_total_limit=2,  # keep only the last 2 checkpoints\n",
        "    learning_rate=2e-5,  # initial learning rate\n",
        "    per_device_train_batch_size=32,  # batch size for training\n",
        "    #gradient_accumulation_steps=1,  # no gradient accumulation\n",
        "    per_device_eval_batch_size=32,  # batch size for evaluation\n",
        "    num_train_epochs=3,  # number of training epochs\n",
        "    weight_decay=0.01,  # apply weight decay\n",
        "    #fp16=True,  # enable mixed precision\n",
        "    metric_for_best_model=\"accuracy\",  # use accuracy as the metric to select the best model\n",
        "    greater_is_better=True,  # higher accuracy is better\n",
        "    remove_unused_columns=False,  # do not remove columns from the dataset\n",
        "    logging_dir=\"/content/drive/MyDrive/Colab Notebooks/comp6781-project/logs\",  # log directory\n",
        "    logging_steps=5000,  # logging frequency every 50 steps\n",
        "    load_best_model_at_end=True,  # load the best model at the end\n",
        "    report_to=\"none\",\n",
        ")\n"
      ]
    },
    {
      "cell_type": "code",
      "execution_count": 42,
      "metadata": {
        "id": "YLI-nBWA9OYU"
      },
      "outputs": [],
      "source": [
        "trainer = Trainer(\n",
        "    model=model,  # use the custom model\n",
        "    args=training_args,  # training arguments\n",
        "    train_dataset=train_dataset,  # training dataset\n",
        "    eval_dataset=val_dataset,  # validation dataset\n",
        "    compute_metrics=compute_metrics,  # evaluation metrics\n",
        ")\n",
        ""
      ]
    },
    {
      "cell_type": "code",
      "execution_count": 43,
      "metadata": {
        "id": "xXNhs25y9OYU"
      },
      "outputs": [],
      "source": [
        "from accelerate import Accelerator\n",
        "\n",
        "# re-initialize the Accelerator\n",
        "accelerator = Accelerator()\n",
        "trainer.accelerator = accelerator\n",
        "\n",
        "# evaluate the model\n",
        "#metrics = trainer.evaluate()\n",
        "#print(metrics)"
      ]
    },
    {
      "cell_type": "markdown",
      "source": [
        "## 5.2. Start Training"
      ],
      "metadata": {
        "id": "tDBDo3mCQ9Tp"
      }
    },
    {
      "cell_type": "code",
      "execution_count": 44,
      "metadata": {
        "colab": {
          "base_uri": "https://localhost:8080/",
          "height": 223
        },
        "id": "5eszVIh79OYZ",
        "outputId": "56cdcac2-edcf-42ca-a491-dfec470780d5"
      },
      "outputs": [
        {
          "output_type": "display_data",
          "data": {
            "text/plain": [
              "<IPython.core.display.HTML object>"
            ],
            "text/html": [
              "\n",
              "    <div>\n",
              "      \n",
              "      <progress value='28632' max='28632' style='width:300px; height:20px; vertical-align: middle;'></progress>\n",
              "      [28632/28632 2:31:57, Epoch 3/3]\n",
              "    </div>\n",
              "    <table border=\"1\" class=\"dataframe\">\n",
              "  <thead>\n",
              " <tr style=\"text-align: left;\">\n",
              "      <th>Epoch</th>\n",
              "      <th>Training Loss</th>\n",
              "      <th>Validation Loss</th>\n",
              "      <th>Accuracy</th>\n",
              "      <th>Precision</th>\n",
              "      <th>Recall</th>\n",
              "      <th>F1</th>\n",
              "    </tr>\n",
              "  </thead>\n",
              "  <tbody>\n",
              "    <tr>\n",
              "      <td>1</td>\n",
              "      <td>0.165600</td>\n",
              "      <td>0.194885</td>\n",
              "      <td>0.944375</td>\n",
              "      <td>0.932661</td>\n",
              "      <td>0.981796</td>\n",
              "      <td>0.956598</td>\n",
              "    </tr>\n",
              "    <tr>\n",
              "      <td>2</td>\n",
              "      <td>0.079400</td>\n",
              "      <td>0.337630</td>\n",
              "      <td>0.940211</td>\n",
              "      <td>0.921674</td>\n",
              "      <td>0.988221</td>\n",
              "      <td>0.953788</td>\n",
              "    </tr>\n",
              "    <tr>\n",
              "      <td>3</td>\n",
              "      <td>0.048100</td>\n",
              "      <td>0.486342</td>\n",
              "      <td>0.935780</td>\n",
              "      <td>0.911923</td>\n",
              "      <td>0.993055</td>\n",
              "      <td>0.950762</td>\n",
              "    </tr>\n",
              "  </tbody>\n",
              "</table><p>"
            ]
          },
          "metadata": {}
        },
        {
          "output_type": "execute_result",
          "data": {
            "text/plain": [
              "TrainOutput(global_step=28632, training_loss=0.08764878449142895, metrics={'train_runtime': 9117.4596, 'train_samples_per_second': 100.483, 'train_steps_per_second': 3.14, 'total_flos': 0.0, 'train_loss': 0.08764878449142895, 'epoch': 3.0})"
            ]
          },
          "metadata": {},
          "execution_count": 44
        }
      ],
      "source": [
        "# train the model\n",
        "trainer.train()"
      ]
    },
    {
      "cell_type": "markdown",
      "metadata": {
        "id": "nhQDsSEn9OYa"
      },
      "source": [
        "# 6. Evaluation"
      ]
    },
    {
      "cell_type": "markdown",
      "source": [
        "## 6.1. Overall Results"
      ],
      "metadata": {
        "id": "tuGZH-dbF4gT"
      }
    },
    {
      "cell_type": "code",
      "source": [
        "# evaluate on the training set\n",
        "train_metrics = trainer.evaluate(train_dataset)\n",
        "\n",
        "print(\"Training Results:\")\n",
        "for metric, value in train_metrics.items():\n",
        "    print(f\"{metric}: {value}\")\n"
      ],
      "metadata": {
        "colab": {
          "base_uri": "https://localhost:8080/",
          "height": 218
        },
        "id": "kJC6RP2mdeZ4",
        "outputId": "842e5196-d98a-414e-cdd9-5ff7716a8332"
      },
      "execution_count": 45,
      "outputs": [
        {
          "output_type": "display_data",
          "data": {
            "text/plain": [
              "<IPython.core.display.HTML object>"
            ],
            "text/html": [
              "\n",
              "    <div>\n",
              "      \n",
              "      <progress value='9544' max='9544' style='width:300px; height:20px; vertical-align: middle;'></progress>\n",
              "      [9544/9544 15:28]\n",
              "    </div>\n",
              "    "
            ]
          },
          "metadata": {}
        },
        {
          "output_type": "stream",
          "name": "stdout",
          "text": [
            "Training Results:\n",
            "eval_loss: 0.1546497642993927\n",
            "eval_accuracy: 0.9536581931541703\n",
            "eval_precision: 0.9414570555211476\n",
            "eval_recall: 0.9872670514660438\n",
            "eval_f1: 0.963818026558673\n",
            "eval_runtime: 928.2764\n",
            "eval_samples_per_second: 328.979\n",
            "eval_steps_per_second: 10.281\n",
            "epoch: 3.0\n"
          ]
        }
      ]
    },
    {
      "cell_type": "code",
      "source": [
        "# evaluate on the validation set\n",
        "val_metrics = trainer.evaluate(val_dataset)\n",
        "\n",
        "print(\"Validation Results:\")\n",
        "for metric, value in val_metrics.items():\n",
        "    print(f\"{metric}: {value}\")"
      ],
      "metadata": {
        "colab": {
          "base_uri": "https://localhost:8080/",
          "height": 218
        },
        "id": "SFa1biaHfODq",
        "outputId": "757c1342-d350-4ecf-ea89-abc2db22057c"
      },
      "execution_count": 47,
      "outputs": [
        {
          "output_type": "display_data",
          "data": {
            "text/plain": [
              "<IPython.core.display.HTML object>"
            ],
            "text/html": [
              "\n",
              "    <div>\n",
              "      \n",
              "      <progress value='11180' max='9544' style='width:300px; height:20px; vertical-align: middle;'></progress>\n",
              "      [9544/9544 18:09]\n",
              "    </div>\n",
              "    "
            ]
          },
          "metadata": {}
        },
        {
          "output_type": "stream",
          "name": "stdout",
          "text": [
            "Validation Results:\n",
            "eval_loss: 0.19488483667373657\n",
            "eval_accuracy: 0.9443754656071517\n",
            "eval_precision: 0.9326610090676587\n",
            "eval_recall: 0.9817964877929388\n",
            "eval_f1: 0.9565982055027276\n",
            "eval_runtime: 161.0973\n",
            "eval_samples_per_second: 324.965\n",
            "eval_steps_per_second: 10.155\n",
            "epoch: 3.0\n"
          ]
        }
      ]
    },
    {
      "cell_type": "code",
      "execution_count": 48,
      "metadata": {
        "colab": {
          "base_uri": "https://localhost:8080/",
          "height": 218
        },
        "id": "kQoHHQK39OYa",
        "outputId": "2a210b80-62fa-49f8-ff8b-6fb8d6fba32b"
      },
      "outputs": [
        {
          "output_type": "display_data",
          "data": {
            "text/plain": [
              "<IPython.core.display.HTML object>"
            ],
            "text/html": [
              "\n",
              "    <div>\n",
              "      \n",
              "      <progress value='13491' max='9544' style='width:300px; height:20px; vertical-align: middle;'></progress>\n",
              "      [9544/9544 21:56]\n",
              "    </div>\n",
              "    "
            ]
          },
          "metadata": {}
        },
        {
          "output_type": "stream",
          "name": "stdout",
          "text": [
            "Test Results:\n",
            "eval_loss: 1.3903391361236572\n",
            "eval_accuracy: 0.7388593608417522\n",
            "eval_precision: 0.6821924811480947\n",
            "eval_recall: 0.9515356797229155\n",
            "eval_f1: 0.7946615621842931\n",
            "eval_runtime: 227.3829\n",
            "eval_samples_per_second: 325.183\n",
            "eval_steps_per_second: 10.163\n",
            "epoch: 3.0\n"
          ]
        }
      ],
      "source": [
        "# evaluate on the test set\n",
        "test_metrics = trainer.evaluate(test_dataset)\n",
        "\n",
        "print(\"Test Results:\")\n",
        "for metric, value in test_metrics.items():\n",
        "    print(f\"{metric}: {value}\")"
      ]
    },
    {
      "cell_type": "markdown",
      "source": [
        "## 6.2. Confusion Matrix"
      ],
      "metadata": {
        "id": "nWl-oiluGASd"
      }
    },
    {
      "cell_type": "code",
      "source": [
        "def generate_predictions_and_labels(trainer, dataset):\n",
        "    \"\"\"\n",
        "    Generate predictions and true labels for a given dataset.\n",
        "\n",
        "    Args:\n",
        "        trainer (transformers.Trainer): The HuggingFace Trainer instance.\n",
        "        dataset (datasets.Dataset): The dataset to evaluate.\n",
        "\n",
        "    Returns:\n",
        "        tuple: A tuple containing predicted labels (numpy.ndarray) and true labels (numpy.ndarray).\n",
        "    \"\"\"\n",
        "    predictions = trainer.predict(dataset)  # get predictions\n",
        "    logits = predictions.predictions        # extract logits\n",
        "    true_labels = dataset[\"labels\"]         # ground truth labels\n",
        "\n",
        "    # convert logits to predicted class labels\n",
        "    if len(logits.shape) == 1:  # binary classification with single logit\n",
        "        predicted_labels = (logits > 0).astype(int)\n",
        "    else:                       # multi-class or binary with two logits\n",
        "        predicted_labels = np.argmax(logits, axis=1)\n",
        "\n",
        "    return predicted_labels, true_labels\n"
      ],
      "metadata": {
        "id": "2Z6MwOI6GEc7"
      },
      "execution_count": 49,
      "outputs": []
    },
    {
      "cell_type": "code",
      "source": [
        "def display_confusion_matrix(y_true, y_pred, title=\"Confusion Matrix\", figsize=(3, 3)):\n",
        "    \"\"\"\n",
        "    Compute and display the confusion matrix.\n",
        "\n",
        "    Args:\n",
        "        y_true (numpy.ndarray): True labels.\n",
        "        y_pred (numpy.ndarray): Predicted labels.\n",
        "        title (str): Title for the confusion matrix plot. Defaults to \"Confusion Matrix\".\n",
        "        figsize (tuple): Figure size for the plot. Defaults to (6, 6).\n",
        "\n",
        "    Returns:\n",
        "        numpy.ndarray: The confusion matrix.\n",
        "    \"\"\"\n",
        "    cm = confusion_matrix(y_true, y_pred)  # compute confusion matrix\n",
        "    fig, ax = plt.subplots(figsize=figsize)  # set figure size\n",
        "    disp = ConfusionMatrixDisplay(confusion_matrix=cm)\n",
        "    disp.plot(cmap=\"viridis\", ax=ax)  # plot with viridis colormap on specified axes\n",
        "    disp.ax_.set_title(title)  # set title for the plot\n",
        "    plt.show()  # display the plot\n",
        "    return cm"
      ],
      "metadata": {
        "id": "up_Kfs3BGEpM"
      },
      "execution_count": 50,
      "outputs": []
    },
    {
      "cell_type": "code",
      "source": [
        "# training set\n",
        "train_predictions, train_labels = generate_predictions_and_labels(trainer, train_dataset)\n",
        "print(\"Confusion Matrix for Training Set:\")\n",
        "cm_train = display_confusion_matrix(train_labels, train_predictions, title=\"Training Set CM\")"
      ],
      "metadata": {
        "colab": {
          "base_uri": "https://localhost:8080/",
          "height": 306
        },
        "id": "DrF3kVepGJF6",
        "outputId": "6b27c61f-7b7f-4756-ddb5-083df4a0729f"
      },
      "execution_count": 51,
      "outputs": [
        {
          "output_type": "display_data",
          "data": {
            "text/plain": [
              "<IPython.core.display.HTML object>"
            ],
            "text/html": []
          },
          "metadata": {}
        },
        {
          "output_type": "stream",
          "name": "stdout",
          "text": [
            "Confusion Matrix for Training Set:\n"
          ]
        },
        {
          "output_type": "display_data",
          "data": {
            "text/plain": [
              "<Figure size 300x300 with 2 Axes>"
            ],
            "image/png": "[encoded data removed]"
          },
          "metadata": {}
        }
      ]
    },
    {
      "cell_type": "code",
      "source": [
        "# validation set\n",
        "val_predictions, val_labels = generate_predictions_and_labels(trainer, val_dataset)\n",
        "print(\"Confusion Matrix for Validation Set:\")\n",
        "cm_val = display_confusion_matrix(val_labels, val_predictions, title=\"Validation Set CM\")"
      ],
      "metadata": {
        "colab": {
          "base_uri": "https://localhost:8080/",
          "height": 306
        },
        "id": "f4156qkUGJLr",
        "outputId": "687701e6-0e24-4678-e92f-4913d470e45d"
      },
      "execution_count": 52,
      "outputs": [
        {
          "output_type": "display_data",
          "data": {
            "text/plain": [
              "<IPython.core.display.HTML object>"
            ],
            "text/html": []
          },
          "metadata": {}
        },
        {
          "output_type": "stream",
          "name": "stdout",
          "text": [
            "Confusion Matrix for Validation Set:\n"
          ]
        },
        {
          "output_type": "display_data",
          "data": {
            "text/plain": [
              "<Figure size 300x300 with 2 Axes>"
            ],
            "image/png": "[encoded data removed]"
          },
          "metadata": {}
        }
      ]
    },
    {
      "cell_type": "code",
      "source": [
        "# test set\n",
        "test_predictions, test_labels = generate_predictions_and_labels(trainer, test_dataset)\n",
        "print(\"Confusion Matrix for Test Set:\")\n",
        "cm_test = display_confusion_matrix(test_labels, test_predictions, title=\"Test Set CM\")\n"
      ],
      "metadata": {
        "colab": {
          "base_uri": "https://localhost:8080/",
          "height": 306
        },
        "id": "SkbavFViGNi5",
        "outputId": "f96b2a2f-65d2-4f3f-9c34-35afcd83aae9"
      },
      "execution_count": 53,
      "outputs": [
        {
          "output_type": "display_data",
          "data": {
            "text/plain": [
              "<IPython.core.display.HTML object>"
            ],
            "text/html": []
          },
          "metadata": {}
        },
        {
          "output_type": "stream",
          "name": "stdout",
          "text": [
            "Confusion Matrix for Test Set:\n"
          ]
        },
        {
          "output_type": "display_data",
          "data": {
            "text/plain": [
              "<Figure size 300x300 with 2 Axes>"
            ],
            "image/png": "[encoded data removed]"
          },
          "metadata": {}
        }
      ]
    },
    {
      "cell_type": "markdown",
      "source": [
        "## 6.3. Classifying a Single Sample"
      ],
      "metadata": {
        "id": "_4RtxlM2dib4"
      }
    },
    {
      "cell_type": "code",
      "source": [
        "def classify_text(model, text_sample, device, label_map=None):\n",
        "    \"\"\"\n",
        "    Classify a single text sample as either AI-generated or Human-written.\n",
        "\n",
        "    Args:\n",
        "        model (nn.Module): The trained classification model.\n",
        "        tokenizer (AutoTokenizer): Tokenizer for the model.\n",
        "        text_sample (str): The text sample to classify.\n",
        "        device (torch.device): Device to perform inference (CPU/GPU).\n",
        "        label_map (dict, optional): A dictionary mapping labels to human-readable text.\n",
        "                                    Defaults to {0: \"AI-generated\", 1: \"Human-written\"}.\n",
        "\n",
        "    Returns:\n",
        "        str: Predicted class label (e.g., \"AI-generated\" or \"Human-written\").\n",
        "    \"\"\"\n",
        "    if label_map is None:\n",
        "        label_map = {0: \"AI-generated\", 1: \"Human-written\"}\n",
        "\n",
        "    # tokenize and move inputs to the same device as the model\n",
        "    tokenizer = AutoTokenizer.from_pretrained(\"distilroberta-base\")\n",
        "    inputs = tokenizer(\n",
        "        text_sample,\n",
        "        return_tensors=\"pt\",\n",
        "        truncation=True,\n",
        "        padding=\"max_length\",\n",
        "        max_length=512\n",
        "    ).to(device)\n",
        "\n",
        "    # ensure model is on the correct device\n",
        "    model.to(device)\n",
        "\n",
        "    # forward pass through the model\n",
        "    outputs = model(input_ids=inputs[\"input_ids\"], attention_mask=inputs[\"attention_mask\"])\n",
        "\n",
        "    # extract logits and calculate predicted label\n",
        "    logits = outputs.logits\n",
        "    predicted_label = torch.argmax(logits, dim=-1).item()\n",
        "\n",
        "    # interpret the prediction\n",
        "    return f\"Predicted class: {predicted_label} ({label_map[predicted_label]})\"\n"
      ],
      "metadata": {
        "id": "Gxf9vbykfylP"
      },
      "execution_count": 77,
      "outputs": []
    },
    {
      "cell_type": "code",
      "source": [
        "# sample to classify\n",
        "text_sample_human = \"This is a short sample of text written by a human to test the performance of the model.\"\n",
        "print(classify_text(model, text_sample_human, device))"
      ],
      "metadata": {
        "colab": {
          "base_uri": "https://localhost:8080/"
        },
        "id": "Ol6x7MYddoBf",
        "outputId": "c4a88fb6-ef35-428e-d594-ee277cfb78de"
      },
      "execution_count": 82,
      "outputs": [
        {
          "output_type": "stream",
          "name": "stdout",
          "text": [
            "Predicted class: 1 (Human-written)\n"
          ]
        }
      ]
    },
    {
      "cell_type": "code",
      "source": [
        "# classify an AI-generated sample generated with ChatGPT 4\n",
        "text_sample_ai = \"The latest smartphone model hits the market this week, featuring an improved battery life and a faster processor. It comes equipped with a high-resolution camera capable of capturing stunning photos even in low light conditions. The device also includes enhanced security features such as facial recognition and fingerprint scanning, making it a top choice for tech enthusiasts looking for both performance and reliability.\"\n",
        "print(classify_text(model, text_sample_ai, device))"
      ],
      "metadata": {
        "colab": {
          "base_uri": "https://localhost:8080/"
        },
        "id": "5D-P5cgndoDm",
        "outputId": "15c09a80-673f-4626-8702-737c47d252ac"
      },
      "execution_count": 85,
      "outputs": [
        {
          "output_type": "stream",
          "name": "stdout",
          "text": [
            "Predicted class: 1 (Human-written)\n"
          ]
        }
      ]
    },
    {
      "cell_type": "markdown",
      "source": [
        "The classification failed... not so surprising, one 1.6% of the training set was generated with GPT4."
      ],
      "metadata": {
        "id": "lebc6qWHhjzT"
      }
    }
  ],
  "metadata": {
    "kernelspec": {
      "display_name": "Python 3",
      "name": "python3"
    },
    "language_info": {
      "codemirror_mode": {
        "name": "ipython",
        "version": 3
      },
      "file_extension": ".py",
      "mimetype": "text/x-python",
      "name": "python",
      "nbconvert_exporter": "python",
      "pygments_lexer": "ipython3",
      "version": "3.10.15"
    },
    "colab": {
      "provenance": [],
      "machine_shape": "hm",
      "gpuType": "A100"
    },
    "accelerator": "GPU",
    "widgets": {
      "application/vnd.jupyter.widget-state+json": {
        "b61dca1864da4539ba317be9dd6c124c": {
          "model_module": "@jupyter-widgets/controls",
          "model_name": "HBoxModel",
          "model_module_version": "1.5.0",
          "state": {
            "_dom_classes": [],
            "_model_module": "@jupyter-widgets/controls",
            "_model_module_version": "1.5.0",
            "_model_name": "HBoxModel",
            "_view_count": null,
            "_view_module": "@jupyter-widgets/controls",
            "_view_module_version": "1.5.0",
            "_view_name": "HBoxView",
            "box_style": "",
            "children": [
              "IPY_MODEL_3d66202161294ea4ac44bf1473a5a05b",
              "IPY_MODEL_253d363d2d8944b4a801dfe22b3c4f7f",
              "IPY_MODEL_920f16d8f9554b47ae983c07b94422cc"
            ],
            "layout": "IPY_MODEL_f8e0bd020c1f4e2e9ef84fd45272688d"
          }
        },
        "3d66202161294ea4ac44bf1473a5a05b": {
          "model_module": "@jupyter-widgets/controls",
          "model_name": "HTMLModel",
          "model_module_version": "1.5.0",
          "state": {
            "_dom_classes": [],
            "_model_module": "@jupyter-widgets/controls",
            "_model_module_version": "1.5.0",
            "_model_name": "HTMLModel",
            "_view_count": null,
            "_view_module": "@jupyter-widgets/controls",
            "_view_module_version": "1.5.0",
            "_view_name": "HTMLView",
            "description": "",
            "description_tooltip": null,
            "layout": "IPY_MODEL_73c3c05899824abd8b6f2d5cd730e45e",
            "placeholder": "​",
            "style": "IPY_MODEL_8dba98f346bf4dd4ac3fb0eef836e3f6",
            "value": "Map (num_proc=8): 100%"
          }
        },
        "253d363d2d8944b4a801dfe22b3c4f7f": {
          "model_module": "@jupyter-widgets/controls",
          "model_name": "FloatProgressModel",
          "model_module_version": "1.5.0",
          "state": {
            "_dom_classes": [],
            "_model_module": "@jupyter-widgets/controls",
            "_model_module_version": "1.5.0",
            "_model_name": "FloatProgressModel",
            "_view_count": null,
            "_view_module": "@jupyter-widgets/controls",
            "_view_module_version": "1.5.0",
            "_view_name": "ProgressView",
            "bar_style": "success",
            "description": "",
            "description_tooltip": null,
            "layout": "IPY_MODEL_8b23c632e9f045a6821df7c4c7366d7d",
            "max": 305383,
            "min": 0,
            "orientation": "horizontal",
            "style": "IPY_MODEL_a6caf149d3d94a22a3d13c29446dad66",
            "value": 305383
          }
        },
        "920f16d8f9554b47ae983c07b94422cc": {
          "model_module": "@jupyter-widgets/controls",
          "model_name": "HTMLModel",
          "model_module_version": "1.5.0",
          "state": {
            "_dom_classes": [],
            "_model_module": "@jupyter-widgets/controls",
            "_model_module_version": "1.5.0",
            "_model_name": "HTMLModel",
            "_view_count": null,
            "_view_module": "@jupyter-widgets/controls",
            "_view_module_version": "1.5.0",
            "_view_name": "HTMLView",
            "description": "",
            "description_tooltip": null,
            "layout": "IPY_MODEL_1d58424749b34b118716d8c6506d5a5a",
            "placeholder": "​",
            "style": "IPY_MODEL_ad52411ee8184379bcdebdf1e11525d9",
            "value": " 305383/305383 [02:16&lt;00:00, 499.15 examples/s]"
          }
        },
        "f8e0bd020c1f4e2e9ef84fd45272688d": {
          "model_module": "@jupyter-widgets/base",
          "model_name": "LayoutModel",
          "model_module_version": "1.2.0",
          "state": {
            "_model_module": "@jupyter-widgets/base",
            "_model_module_version": "1.2.0",
            "_model_name": "LayoutModel",
            "_view_count": null,
            "_view_module": "@jupyter-widgets/base",
            "_view_module_version": "1.2.0",
            "_view_name": "LayoutView",
            "align_content": null,
            "align_items": null,
            "align_self": null,
            "border": null,
            "bottom": null,
            "display": null,
            "flex": null,
            "flex_flow": null,
            "grid_area": null,
            "grid_auto_columns": null,
            "grid_auto_flow": null,
            "grid_auto_rows": null,
            "grid_column": null,
            "grid_gap": null,
            "grid_row": null,
            "grid_template_areas": null,
            "grid_template_columns": null,
            "grid_template_rows": null,
            "height": null,
            "justify_content": null,
            "justify_items": null,
            "left": null,
            "margin": null,
            "max_height": null,
            "max_width": null,
            "min_height": null,
            "min_width": null,
            "object_fit": null,
            "object_position": null,
            "order": null,
            "overflow": null,
            "overflow_x": null,
            "overflow_y": null,
            "padding": null,
            "right": null,
            "top": null,
            "visibility": null,
            "width": null
          }
        },
        "73c3c05899824abd8b6f2d5cd730e45e": {
          "model_module": "@jupyter-widgets/base",
          "model_name": "LayoutModel",
          "model_module_version": "1.2.0",
          "state": {
            "_model_module": "@jupyter-widgets/base",
            "_model_module_version": "1.2.0",
            "_model_name": "LayoutModel",
            "_view_count": null,
            "_view_module": "@jupyter-widgets/base",
            "_view_module_version": "1.2.0",
            "_view_name": "LayoutView",
            "align_content": null,
            "align_items": null,
            "align_self": null,
            "border": null,
            "bottom": null,
            "display": null,
            "flex": null,
            "flex_flow": null,
            "grid_area": null,
            "grid_auto_columns": null,
            "grid_auto_flow": null,
            "grid_auto_rows": null,
            "grid_column": null,
            "grid_gap": null,
            "grid_row": null,
            "grid_template_areas": null,
            "grid_template_columns": null,
            "grid_template_rows": null,
            "height": null,
            "justify_content": null,
            "justify_items": null,
            "left": null,
            "margin": null,
            "max_height": null,
            "max_width": null,
            "min_height": null,
            "min_width": null,
            "object_fit": null,
            "object_position": null,
            "order": null,
            "overflow": null,
            "overflow_x": null,
            "overflow_y": null,
            "padding": null,
            "right": null,
            "top": null,
            "visibility": null,
            "width": null
          }
        },
        "8dba98f346bf4dd4ac3fb0eef836e3f6": {
          "model_module": "@jupyter-widgets/controls",
          "model_name": "DescriptionStyleModel",
          "model_module_version": "1.5.0",
          "state": {
            "_model_module": "@jupyter-widgets/controls",
            "_model_module_version": "1.5.0",
            "_model_name": "DescriptionStyleModel",
            "_view_count": null,
            "_view_module": "@jupyter-widgets/base",
            "_view_module_version": "1.2.0",
            "_view_name": "StyleView",
            "description_width": ""
          }
        },
        "8b23c632e9f045a6821df7c4c7366d7d": {
          "model_module": "@jupyter-widgets/base",
          "model_name": "LayoutModel",
          "model_module_version": "1.2.0",
          "state": {
            "_model_module": "@jupyter-widgets/base",
            "_model_module_version": "1.2.0",
            "_model_name": "LayoutModel",
            "_view_count": null,
            "_view_module": "@jupyter-widgets/base",
            "_view_module_version": "1.2.0",
            "_view_name": "LayoutView",
            "align_content": null,
            "align_items": null,
            "align_self": null,
            "border": null,
            "bottom": null,
            "display": null,
            "flex": null,
            "flex_flow": null,
            "grid_area": null,
            "grid_auto_columns": null,
            "grid_auto_flow": null,
            "grid_auto_rows": null,
            "grid_column": null,
            "grid_gap": null,
            "grid_row": null,
            "grid_template_areas": null,
            "grid_template_columns": null,
            "grid_template_rows": null,
            "height": null,
            "justify_content": null,
            "justify_items": null,
            "left": null,
            "margin": null,
            "max_height": null,
            "max_width": null,
            "min_height": null,
            "min_width": null,
            "object_fit": null,
            "object_position": null,
            "order": null,
            "overflow": null,
            "overflow_x": null,
            "overflow_y": null,
            "padding": null,
            "right": null,
            "top": null,
            "visibility": null,
            "width": null
          }
        },
        "a6caf149d3d94a22a3d13c29446dad66": {
          "model_module": "@jupyter-widgets/controls",
          "model_name": "ProgressStyleModel",
          "model_module_version": "1.5.0",
          "state": {
            "_model_module": "@jupyter-widgets/controls",
            "_model_module_version": "1.5.0",
            "_model_name": "ProgressStyleModel",
            "_view_count": null,
            "_view_module": "@jupyter-widgets/base",
            "_view_module_version": "1.2.0",
            "_view_name": "StyleView",
            "bar_color": null,
            "description_width": ""
          }
        },
        "1d58424749b34b118716d8c6506d5a5a": {
          "model_module": "@jupyter-widgets/base",
          "model_name": "LayoutModel",
          "model_module_version": "1.2.0",
          "state": {
            "_model_module": "@jupyter-widgets/base",
            "_model_module_version": "1.2.0",
            "_model_name": "LayoutModel",
            "_view_count": null,
            "_view_module": "@jupyter-widgets/base",
            "_view_module_version": "1.2.0",
            "_view_name": "LayoutView",
            "align_content": null,
            "align_items": null,
            "align_self": null,
            "border": null,
            "bottom": null,
            "display": null,
            "flex": null,
            "flex_flow": null,
            "grid_area": null,
            "grid_auto_columns": null,
            "grid_auto_flow": null,
            "grid_auto_rows": null,
            "grid_column": null,
            "grid_gap": null,
            "grid_row": null,
            "grid_template_areas": null,
            "grid_template_columns": null,
            "grid_template_rows": null,
            "height": null,
            "justify_content": null,
            "justify_items": null,
            "left": null,
            "margin": null,
            "max_height": null,
            "max_width": null,
            "min_height": null,
            "min_width": null,
            "object_fit": null,
            "object_position": null,
            "order": null,
            "overflow": null,
            "overflow_x": null,
            "overflow_y": null,
            "padding": null,
            "right": null,
            "top": null,
            "visibility": null,
            "width": null
          }
        },
        "ad52411ee8184379bcdebdf1e11525d9": {
          "model_module": "@jupyter-widgets/controls",
          "model_name": "DescriptionStyleModel",
          "model_module_version": "1.5.0",
          "state": {
            "_model_module": "@jupyter-widgets/controls",
            "_model_module_version": "1.5.0",
            "_model_name": "DescriptionStyleModel",
            "_view_count": null,
            "_view_module": "@jupyter-widgets/base",
            "_view_module_version": "1.2.0",
            "_view_name": "StyleView",
            "description_width": ""
          }
        },
        "2514733f3e1f4317bee137b355b086e8": {
          "model_module": "@jupyter-widgets/controls",
          "model_name": "HBoxModel",
          "model_module_version": "1.5.0",
          "state": {
            "_dom_classes": [],
            "_model_module": "@jupyter-widgets/controls",
            "_model_module_version": "1.5.0",
            "_model_name": "HBoxModel",
            "_view_count": null,
            "_view_module": "@jupyter-widgets/controls",
            "_view_module_version": "1.5.0",
            "_view_name": "HBoxView",
            "box_style": "",
            "children": [
              "IPY_MODEL_521aef4cdcd04059aa4d9bf0acb43b47",
              "IPY_MODEL_42a60ca1d3b2475081920cf8dbc76060",
              "IPY_MODEL_95904434b6094044b696d6e0e263fdb6"
            ],
            "layout": "IPY_MODEL_e045bc7c0965469380bccf2cd3ca2f86"
          }
        },
        "521aef4cdcd04059aa4d9bf0acb43b47": {
          "model_module": "@jupyter-widgets/controls",
          "model_name": "HTMLModel",
          "model_module_version": "1.5.0",
          "state": {
            "_dom_classes": [],
            "_model_module": "@jupyter-widgets/controls",
            "_model_module_version": "1.5.0",
            "_model_name": "HTMLModel",
            "_view_count": null,
            "_view_module": "@jupyter-widgets/controls",
            "_view_module_version": "1.5.0",
            "_view_name": "HTMLView",
            "description": "",
            "description_tooltip": null,
            "layout": "IPY_MODEL_027c3514a4df489da9b2d1905cdded65",
            "placeholder": "​",
            "style": "IPY_MODEL_f2fe0cf7cfab4e7c8bab5d7b37474bbc",
            "value": "Map (num_proc=8): 100%"
          }
        },
        "42a60ca1d3b2475081920cf8dbc76060": {
          "model_module": "@jupyter-widgets/controls",
          "model_name": "FloatProgressModel",
          "model_module_version": "1.5.0",
          "state": {
            "_dom_classes": [],
            "_model_module": "@jupyter-widgets/controls",
            "_model_module_version": "1.5.0",
            "_model_name": "FloatProgressModel",
            "_view_count": null,
            "_view_module": "@jupyter-widgets/controls",
            "_view_module_version": "1.5.0",
            "_view_name": "ProgressView",
            "bar_style": "success",
            "description": "",
            "description_tooltip": null,
            "layout": "IPY_MODEL_873a2f3f3d9047309365e7d45fbf5416",
            "max": 52351,
            "min": 0,
            "orientation": "horizontal",
            "style": "IPY_MODEL_e83b43ebd5d444558246dcf4165d6bf7",
            "value": 52351
          }
        },
        "95904434b6094044b696d6e0e263fdb6": {
          "model_module": "@jupyter-widgets/controls",
          "model_name": "HTMLModel",
          "model_module_version": "1.5.0",
          "state": {
            "_dom_classes": [],
            "_model_module": "@jupyter-widgets/controls",
            "_model_module_version": "1.5.0",
            "_model_name": "HTMLModel",
            "_view_count": null,
            "_view_module": "@jupyter-widgets/controls",
            "_view_module_version": "1.5.0",
            "_view_name": "HTMLView",
            "description": "",
            "description_tooltip": null,
            "layout": "IPY_MODEL_0cf38155b99a4c4581a4864ba9aaeced",
            "placeholder": "​",
            "style": "IPY_MODEL_21356aee4c0044e28bc36e3848000fdf",
            "value": " 52351/52351 [00:26&lt;00:00, 1003.99 examples/s]"
          }
        },
        "e045bc7c0965469380bccf2cd3ca2f86": {
          "model_module": "@jupyter-widgets/base",
          "model_name": "LayoutModel",
          "model_module_version": "1.2.0",
          "state": {
            "_model_module": "@jupyter-widgets/base",
            "_model_module_version": "1.2.0",
            "_model_name": "LayoutModel",
            "_view_count": null,
            "_view_module": "@jupyter-widgets/base",
            "_view_module_version": "1.2.0",
            "_view_name": "LayoutView",
            "align_content": null,
            "align_items": null,
            "align_self": null,
            "border": null,
            "bottom": null,
            "display": null,
            "flex": null,
            "flex_flow": null,
            "grid_area": null,
            "grid_auto_columns": null,
            "grid_auto_flow": null,
            "grid_auto_rows": null,
            "grid_column": null,
            "grid_gap": null,
            "grid_row": null,
            "grid_template_areas": null,
            "grid_template_columns": null,
            "grid_template_rows": null,
            "height": null,
            "justify_content": null,
            "justify_items": null,
            "left": null,
            "margin": null,
            "max_height": null,
            "max_width": null,
            "min_height": null,
            "min_width": null,
            "object_fit": null,
            "object_position": null,
            "order": null,
            "overflow": null,
            "overflow_x": null,
            "overflow_y": null,
            "padding": null,
            "right": null,
            "top": null,
            "visibility": null,
            "width": null
          }
        },
        "027c3514a4df489da9b2d1905cdded65": {
          "model_module": "@jupyter-widgets/base",
          "model_name": "LayoutModel",
          "model_module_version": "1.2.0",
          "state": {
            "_model_module": "@jupyter-widgets/base",
            "_model_module_version": "1.2.0",
            "_model_name": "LayoutModel",
            "_view_count": null,
            "_view_module": "@jupyter-widgets/base",
            "_view_module_version": "1.2.0",
            "_view_name": "LayoutView",
            "align_content": null,
            "align_items": null,
            "align_self": null,
            "border": null,
            "bottom": null,
            "display": null,
            "flex": null,
            "flex_flow": null,
            "grid_area": null,
            "grid_auto_columns": null,
            "grid_auto_flow": null,
            "grid_auto_rows": null,
            "grid_column": null,
            "grid_gap": null,
            "grid_row": null,
            "grid_template_areas": null,
            "grid_template_columns": null,
            "grid_template_rows": null,
            "height": null,
            "justify_content": null,
            "justify_items": null,
            "left": null,
            "margin": null,
            "max_height": null,
            "max_width": null,
            "min_height": null,
            "min_width": null,
            "object_fit": null,
            "object_position": null,
            "order": null,
            "overflow": null,
            "overflow_x": null,
            "overflow_y": null,
            "padding": null,
            "right": null,
            "top": null,
            "visibility": null,
            "width": null
          }
        },
        "f2fe0cf7cfab4e7c8bab5d7b37474bbc": {
          "model_module": "@jupyter-widgets/controls",
          "model_name": "DescriptionStyleModel",
          "model_module_version": "1.5.0",
          "state": {
            "_model_module": "@jupyter-widgets/controls",
            "_model_module_version": "1.5.0",
            "_model_name": "DescriptionStyleModel",
            "_view_count": null,
            "_view_module": "@jupyter-widgets/base",
            "_view_module_version": "1.2.0",
            "_view_name": "StyleView",
            "description_width": ""
          }
        },
        "873a2f3f3d9047309365e7d45fbf5416": {
          "model_module": "@jupyter-widgets/base",
          "model_name": "LayoutModel",
          "model_module_version": "1.2.0",
          "state": {
            "_model_module": "@jupyter-widgets/base",
            "_model_module_version": "1.2.0",
            "_model_name": "LayoutModel",
            "_view_count": null,
            "_view_module": "@jupyter-widgets/base",
            "_view_module_version": "1.2.0",
            "_view_name": "LayoutView",
            "align_content": null,
            "align_items": null,
            "align_self": null,
            "border": null,
            "bottom": null,
            "display": null,
            "flex": null,
            "flex_flow": null,
            "grid_area": null,
            "grid_auto_columns": null,
            "grid_auto_flow": null,
            "grid_auto_rows": null,
            "grid_column": null,
            "grid_gap": null,
            "grid_row": null,
            "grid_template_areas": null,
            "grid_template_columns": null,
            "grid_template_rows": null,
            "height": null,
            "justify_content": null,
            "justify_items": null,
            "left": null,
            "margin": null,
            "max_height": null,
            "max_width": null,
            "min_height": null,
            "min_width": null,
            "object_fit": null,
            "object_position": null,
            "order": null,
            "overflow": null,
            "overflow_x": null,
            "overflow_y": null,
            "padding": null,
            "right": null,
            "top": null,
            "visibility": null,
            "width": null
          }
        },
        "e83b43ebd5d444558246dcf4165d6bf7": {
          "model_module": "@jupyter-widgets/controls",
          "model_name": "ProgressStyleModel",
          "model_module_version": "1.5.0",
          "state": {
            "_model_module": "@jupyter-widgets/controls",
            "_model_module_version": "1.5.0",
            "_model_name": "ProgressStyleModel",
            "_view_count": null,
            "_view_module": "@jupyter-widgets/base",
            "_view_module_version": "1.2.0",
            "_view_name": "StyleView",
            "bar_color": null,
            "description_width": ""
          }
        },
        "0cf38155b99a4c4581a4864ba9aaeced": {
          "model_module": "@jupyter-widgets/base",
          "model_name": "LayoutModel",
          "model_module_version": "1.2.0",
          "state": {
            "_model_module": "@jupyter-widgets/base",
            "_model_module_version": "1.2.0",
            "_model_name": "LayoutModel",
            "_view_count": null,
            "_view_module": "@jupyter-widgets/base",
            "_view_module_version": "1.2.0",
            "_view_name": "LayoutView",
            "align_content": null,
            "align_items": null,
            "align_self": null,
            "border": null,
            "bottom": null,
            "display": null,
            "flex": null,
            "flex_flow": null,
            "grid_area": null,
            "grid_auto_columns": null,
            "grid_auto_flow": null,
            "grid_auto_rows": null,
            "grid_column": null,
            "grid_gap": null,
            "grid_row": null,
            "grid_template_areas": null,
            "grid_template_columns": null,
            "grid_template_rows": null,
            "height": null,
            "justify_content": null,
            "justify_items": null,
            "left": null,
            "margin": null,
            "max_height": null,
            "max_width": null,
            "min_height": null,
            "min_width": null,
            "object_fit": null,
            "object_position": null,
            "order": null,
            "overflow": null,
            "overflow_x": null,
            "overflow_y": null,
            "padding": null,
            "right": null,
            "top": null,
            "visibility": null,
            "width": null
          }
        },
        "21356aee4c0044e28bc36e3848000fdf": {
          "model_module": "@jupyter-widgets/controls",
          "model_name": "DescriptionStyleModel",
          "model_module_version": "1.5.0",
          "state": {
            "_model_module": "@jupyter-widgets/controls",
            "_model_module_version": "1.5.0",
            "_model_name": "DescriptionStyleModel",
            "_view_count": null,
            "_view_module": "@jupyter-widgets/base",
            "_view_module_version": "1.2.0",
            "_view_name": "StyleView",
            "description_width": ""
          }
        },
        "a30ca05ff9384120a7472691d6c889a4": {
          "model_module": "@jupyter-widgets/controls",
          "model_name": "HBoxModel",
          "model_module_version": "1.5.0",
          "state": {
            "_dom_classes": [],
            "_model_module": "@jupyter-widgets/controls",
            "_model_module_version": "1.5.0",
            "_model_name": "HBoxModel",
            "_view_count": null,
            "_view_module": "@jupyter-widgets/controls",
            "_view_module_version": "1.5.0",
            "_view_name": "HBoxView",
            "box_style": "",
            "children": [
              "IPY_MODEL_2048f5844c9b420e92c5735ad5635bc6",
              "IPY_MODEL_98924485646f4e0d85a9fbfb9add1e60",
              "IPY_MODEL_2b08d5742239479e9b8d638f160a0539"
            ],
            "layout": "IPY_MODEL_17eb7eba88e5465a89d96accee610375"
          }
        },
        "2048f5844c9b420e92c5735ad5635bc6": {
          "model_module": "@jupyter-widgets/controls",
          "model_name": "HTMLModel",
          "model_module_version": "1.5.0",
          "state": {
            "_dom_classes": [],
            "_model_module": "@jupyter-widgets/controls",
            "_model_module_version": "1.5.0",
            "_model_name": "HTMLModel",
            "_view_count": null,
            "_view_module": "@jupyter-widgets/controls",
            "_view_module_version": "1.5.0",
            "_view_name": "HTMLView",
            "description": "",
            "description_tooltip": null,
            "layout": "IPY_MODEL_d5f9c57591d0427c8fb99b5009a9550c",
            "placeholder": "​",
            "style": "IPY_MODEL_37e9cbb70d6b4b53a036cfd46fecf59e",
            "value": "Map (num_proc=8): 100%"
          }
        },
        "98924485646f4e0d85a9fbfb9add1e60": {
          "model_module": "@jupyter-widgets/controls",
          "model_name": "FloatProgressModel",
          "model_module_version": "1.5.0",
          "state": {
            "_dom_classes": [],
            "_model_module": "@jupyter-widgets/controls",
            "_model_module_version": "1.5.0",
            "_model_name": "FloatProgressModel",
            "_view_count": null,
            "_view_module": "@jupyter-widgets/controls",
            "_view_module_version": "1.5.0",
            "_view_name": "ProgressView",
            "bar_style": "success",
            "description": "",
            "description_tooltip": null,
            "layout": "IPY_MODEL_279f542286b84e9280acb5a1a852a3cc",
            "max": 73941,
            "min": 0,
            "orientation": "horizontal",
            "style": "IPY_MODEL_32b7ed00d6f54b3ab7194932710d9909",
            "value": 73941
          }
        },
        "2b08d5742239479e9b8d638f160a0539": {
          "model_module": "@jupyter-widgets/controls",
          "model_name": "HTMLModel",
          "model_module_version": "1.5.0",
          "state": {
            "_dom_classes": [],
            "_model_module": "@jupyter-widgets/controls",
            "_model_module_version": "1.5.0",
            "_model_name": "HTMLModel",
            "_view_count": null,
            "_view_module": "@jupyter-widgets/controls",
            "_view_module_version": "1.5.0",
            "_view_name": "HTMLView",
            "description": "",
            "description_tooltip": null,
            "layout": "IPY_MODEL_4582821ea6294f64859ff4b0fef6faac",
            "placeholder": "​",
            "style": "IPY_MODEL_4bbc6ae8024140768b94ec8cd077d89f",
            "value": " 73941/73941 [00:40&lt;00:00, 696.20 examples/s]"
          }
        },
        "17eb7eba88e5465a89d96accee610375": {
          "model_module": "@jupyter-widgets/base",
          "model_name": "LayoutModel",
          "model_module_version": "1.2.0",
          "state": {
            "_model_module": "@jupyter-widgets/base",
            "_model_module_version": "1.2.0",
            "_model_name": "LayoutModel",
            "_view_count": null,
            "_view_module": "@jupyter-widgets/base",
            "_view_module_version": "1.2.0",
            "_view_name": "LayoutView",
            "align_content": null,
            "align_items": null,
            "align_self": null,
            "border": null,
            "bottom": null,
            "display": null,
            "flex": null,
            "flex_flow": null,
            "grid_area": null,
            "grid_auto_columns": null,
            "grid_auto_flow": null,
            "grid_auto_rows": null,
            "grid_column": null,
            "grid_gap": null,
            "grid_row": null,
            "grid_template_areas": null,
            "grid_template_columns": null,
            "grid_template_rows": null,
            "height": null,
            "justify_content": null,
            "justify_items": null,
            "left": null,
            "margin": null,
            "max_height": null,
            "max_width": null,
            "min_height": null,
            "min_width": null,
            "object_fit": null,
            "object_position": null,
            "order": null,
            "overflow": null,
            "overflow_x": null,
            "overflow_y": null,
            "padding": null,
            "right": null,
            "top": null,
            "visibility": null,
            "width": null
          }
        },
        "d5f9c57591d0427c8fb99b5009a9550c": {
          "model_module": "@jupyter-widgets/base",
          "model_name": "LayoutModel",
          "model_module_version": "1.2.0",
          "state": {
            "_model_module": "@jupyter-widgets/base",
            "_model_module_version": "1.2.0",
            "_model_name": "LayoutModel",
            "_view_count": null,
            "_view_module": "@jupyter-widgets/base",
            "_view_module_version": "1.2.0",
            "_view_name": "LayoutView",
            "align_content": null,
            "align_items": null,
            "align_self": null,
            "border": null,
            "bottom": null,
            "display": null,
            "flex": null,
            "flex_flow": null,
            "grid_area": null,
            "grid_auto_columns": null,
            "grid_auto_flow": null,
            "grid_auto_rows": null,
            "grid_column": null,
            "grid_gap": null,
            "grid_row": null,
            "grid_template_areas": null,
            "grid_template_columns": null,
            "grid_template_rows": null,
            "height": null,
            "justify_content": null,
            "justify_items": null,
            "left": null,
            "margin": null,
            "max_height": null,
            "max_width": null,
            "min_height": null,
            "min_width": null,
            "object_fit": null,
            "object_position": null,
            "order": null,
            "overflow": null,
            "overflow_x": null,
            "overflow_y": null,
            "padding": null,
            "right": null,
            "top": null,
            "visibility": null,
            "width": null
          }
        },
        "37e9cbb70d6b4b53a036cfd46fecf59e": {
          "model_module": "@jupyter-widgets/controls",
          "model_name": "DescriptionStyleModel",
          "model_module_version": "1.5.0",
          "state": {
            "_model_module": "@jupyter-widgets/controls",
            "_model_module_version": "1.5.0",
            "_model_name": "DescriptionStyleModel",
            "_view_count": null,
            "_view_module": "@jupyter-widgets/base",
            "_view_module_version": "1.2.0",
            "_view_name": "StyleView",
            "description_width": ""
          }
        },
        "279f542286b84e9280acb5a1a852a3cc": {
          "model_module": "@jupyter-widgets/base",
          "model_name": "LayoutModel",
          "model_module_version": "1.2.0",
          "state": {
            "_model_module": "@jupyter-widgets/base",
            "_model_module_version": "1.2.0",
            "_model_name": "LayoutModel",
            "_view_count": null,
            "_view_module": "@jupyter-widgets/base",
            "_view_module_version": "1.2.0",
            "_view_name": "LayoutView",
            "align_content": null,
            "align_items": null,
            "align_self": null,
            "border": null,
            "bottom": null,
            "display": null,
            "flex": null,
            "flex_flow": null,
            "grid_area": null,
            "grid_auto_columns": null,
            "grid_auto_flow": null,
            "grid_auto_rows": null,
            "grid_column": null,
            "grid_gap": null,
            "grid_row": null,
            "grid_template_areas": null,
            "grid_template_columns": null,
            "grid_template_rows": null,
            "height": null,
            "justify_content": null,
            "justify_items": null,
            "left": null,
            "margin": null,
            "max_height": null,
            "max_width": null,
            "min_height": null,
            "min_width": null,
            "object_fit": null,
            "object_position": null,
            "order": null,
            "overflow": null,
            "overflow_x": null,
            "overflow_y": null,
            "padding": null,
            "right": null,
            "top": null,
            "visibility": null,
            "width": null
          }
        },
        "32b7ed00d6f54b3ab7194932710d9909": {
          "model_module": "@jupyter-widgets/controls",
          "model_name": "ProgressStyleModel",
          "model_module_version": "1.5.0",
          "state": {
            "_model_module": "@jupyter-widgets/controls",
            "_model_module_version": "1.5.0",
            "_model_name": "ProgressStyleModel",
            "_view_count": null,
            "_view_module": "@jupyter-widgets/base",
            "_view_module_version": "1.2.0",
            "_view_name": "StyleView",
            "bar_color": null,
            "description_width": ""
          }
        },
        "4582821ea6294f64859ff4b0fef6faac": {
          "model_module": "@jupyter-widgets/base",
          "model_name": "LayoutModel",
          "model_module_version": "1.2.0",
          "state": {
            "_model_module": "@jupyter-widgets/base",
            "_model_module_version": "1.2.0",
            "_model_name": "LayoutModel",
            "_view_count": null,
            "_view_module": "@jupyter-widgets/base",
            "_view_module_version": "1.2.0",
            "_view_name": "LayoutView",
            "align_content": null,
            "align_items": null,
            "align_self": null,
            "border": null,
            "bottom": null,
            "display": null,
            "flex": null,
            "flex_flow": null,
            "grid_area": null,
            "grid_auto_columns": null,
            "grid_auto_flow": null,
            "grid_auto_rows": null,
            "grid_column": null,
            "grid_gap": null,
            "grid_row": null,
            "grid_template_areas": null,
            "grid_template_columns": null,
            "grid_template_rows": null,
            "height": null,
            "justify_content": null,
            "justify_items": null,
            "left": null,
            "margin": null,
            "max_height": null,
            "max_width": null,
            "min_height": null,
            "min_width": null,
            "object_fit": null,
            "object_position": null,
            "order": null,
            "overflow": null,
            "overflow_x": null,
            "overflow_y": null,
            "padding": null,
            "right": null,
            "top": null,
            "visibility": null,
            "width": null
          }
        },
        "4bbc6ae8024140768b94ec8cd077d89f": {
          "model_module": "@jupyter-widgets/controls",
          "model_name": "DescriptionStyleModel",
          "model_module_version": "1.5.0",
          "state": {
            "_model_module": "@jupyter-widgets/controls",
            "_model_module_version": "1.5.0",
            "_model_name": "DescriptionStyleModel",
            "_view_count": null,
            "_view_module": "@jupyter-widgets/base",
            "_view_module_version": "1.2.0",
            "_view_name": "StyleView",
            "description_width": ""
          }
        },
        "d49d8310896f4389b5b0f35e3eea617d": {
          "model_module": "@jupyter-widgets/controls",
          "model_name": "HBoxModel",
          "model_module_version": "1.5.0",
          "state": {
            "_dom_classes": [],
            "_model_module": "@jupyter-widgets/controls",
            "_model_module_version": "1.5.0",
            "_model_name": "HBoxModel",
            "_view_count": null,
            "_view_module": "@jupyter-widgets/controls",
            "_view_module_version": "1.5.0",
            "_view_name": "HBoxView",
            "box_style": "",
            "children": [
              "IPY_MODEL_9edd1dc9d676441aabb9779313d8b1ad",
              "IPY_MODEL_770661df3a1d45c39fe4db2161fa6a18",
              "IPY_MODEL_b1fe0ba1622d430a8713d8a3f282257b"
            ],
            "layout": "IPY_MODEL_df41ccec18994380ae19cdd732ab1227"
          }
        },
        "9edd1dc9d676441aabb9779313d8b1ad": {
          "model_module": "@jupyter-widgets/controls",
          "model_name": "HTMLModel",
          "model_module_version": "1.5.0",
          "state": {
            "_dom_classes": [],
            "_model_module": "@jupyter-widgets/controls",
            "_model_module_version": "1.5.0",
            "_model_name": "HTMLModel",
            "_view_count": null,
            "_view_module": "@jupyter-widgets/controls",
            "_view_module_version": "1.5.0",
            "_view_name": "HTMLView",
            "description": "",
            "description_tooltip": null,
            "layout": "IPY_MODEL_5a8437a8b92b444aa2b22aaa58fa8212",
            "placeholder": "​",
            "style": "IPY_MODEL_a6872f0012c8445aac0ae9fac4c8db5d",
            "value": "model.safetensors: 100%"
          }
        },
        "770661df3a1d45c39fe4db2161fa6a18": {
          "model_module": "@jupyter-widgets/controls",
          "model_name": "FloatProgressModel",
          "model_module_version": "1.5.0",
          "state": {
            "_dom_classes": [],
            "_model_module": "@jupyter-widgets/controls",
            "_model_module_version": "1.5.0",
            "_model_name": "FloatProgressModel",
            "_view_count": null,
            "_view_module": "@jupyter-widgets/controls",
            "_view_module_version": "1.5.0",
            "_view_name": "ProgressView",
            "bar_style": "success",
            "description": "",
            "description_tooltip": null,
            "layout": "IPY_MODEL_223d67d33dd84d199fdfec17311cdec0",
            "max": 331055963,
            "min": 0,
            "orientation": "horizontal",
            "style": "IPY_MODEL_2a5b05a662e04ac89a13e4fb0225181d",
            "value": 331055963
          }
        },
        "b1fe0ba1622d430a8713d8a3f282257b": {
          "model_module": "@jupyter-widgets/controls",
          "model_name": "HTMLModel",
          "model_module_version": "1.5.0",
          "state": {
            "_dom_classes": [],
            "_model_module": "@jupyter-widgets/controls",
            "_model_module_version": "1.5.0",
            "_model_name": "HTMLModel",
            "_view_count": null,
            "_view_module": "@jupyter-widgets/controls",
            "_view_module_version": "1.5.0",
            "_view_name": "HTMLView",
            "description": "",
            "description_tooltip": null,
            "layout": "IPY_MODEL_019adaac9e9b4878b3e9d77cd752c7c7",
            "placeholder": "​",
            "style": "IPY_MODEL_ed1557b3ea0b4d48bec6bbf746384b8a",
            "value": " 331M/331M [00:01&lt;00:00, 229MB/s]"
          }
        },
        "df41ccec18994380ae19cdd732ab1227": {
          "model_module": "@jupyter-widgets/base",
          "model_name": "LayoutModel",
          "model_module_version": "1.2.0",
          "state": {
            "_model_module": "@jupyter-widgets/base",
            "_model_module_version": "1.2.0",
            "_model_name": "LayoutModel",
            "_view_count": null,
            "_view_module": "@jupyter-widgets/base",
            "_view_module_version": "1.2.0",
            "_view_name": "LayoutView",
            "align_content": null,
            "align_items": null,
            "align_self": null,
            "border": null,
            "bottom": null,
            "display": null,
            "flex": null,
            "flex_flow": null,
            "grid_area": null,
            "grid_auto_columns": null,
            "grid_auto_flow": null,
            "grid_auto_rows": null,
            "grid_column": null,
            "grid_gap": null,
            "grid_row": null,
            "grid_template_areas": null,
            "grid_template_columns": null,
            "grid_template_rows": null,
            "height": null,
            "justify_content": null,
            "justify_items": null,
            "left": null,
            "margin": null,
            "max_height": null,
            "max_width": null,
            "min_height": null,
            "min_width": null,
            "object_fit": null,
            "object_position": null,
            "order": null,
            "overflow": null,
            "overflow_x": null,
            "overflow_y": null,
            "padding": null,
            "right": null,
            "top": null,
            "visibility": null,
            "width": null
          }
        },
        "5a8437a8b92b444aa2b22aaa58fa8212": {
          "model_module": "@jupyter-widgets/base",
          "model_name": "LayoutModel",
          "model_module_version": "1.2.0",
          "state": {
            "_model_module": "@jupyter-widgets/base",
            "_model_module_version": "1.2.0",
            "_model_name": "LayoutModel",
            "_view_count": null,
            "_view_module": "@jupyter-widgets/base",
            "_view_module_version": "1.2.0",
            "_view_name": "LayoutView",
            "align_content": null,
            "align_items": null,
            "align_self": null,
            "border": null,
            "bottom": null,
            "display": null,
            "flex": null,
            "flex_flow": null,
            "grid_area": null,
            "grid_auto_columns": null,
            "grid_auto_flow": null,
            "grid_auto_rows": null,
            "grid_column": null,
            "grid_gap": null,
            "grid_row": null,
            "grid_template_areas": null,
            "grid_template_columns": null,
            "grid_template_rows": null,
            "height": null,
            "justify_content": null,
            "justify_items": null,
            "left": null,
            "margin": null,
            "max_height": null,
            "max_width": null,
            "min_height": null,
            "min_width": null,
            "object_fit": null,
            "object_position": null,
            "order": null,
            "overflow": null,
            "overflow_x": null,
            "overflow_y": null,
            "padding": null,
            "right": null,
            "top": null,
            "visibility": null,
            "width": null
          }
        },
        "a6872f0012c8445aac0ae9fac4c8db5d": {
          "model_module": "@jupyter-widgets/controls",
          "model_name": "DescriptionStyleModel",
          "model_module_version": "1.5.0",
          "state": {
            "_model_module": "@jupyter-widgets/controls",
            "_model_module_version": "1.5.0",
            "_model_name": "DescriptionStyleModel",
            "_view_count": null,
            "_view_module": "@jupyter-widgets/base",
            "_view_module_version": "1.2.0",
            "_view_name": "StyleView",
            "description_width": ""
          }
        },
        "223d67d33dd84d199fdfec17311cdec0": {
          "model_module": "@jupyter-widgets/base",
          "model_name": "LayoutModel",
          "model_module_version": "1.2.0",
          "state": {
            "_model_module": "@jupyter-widgets/base",
            "_model_module_version": "1.2.0",
            "_model_name": "LayoutModel",
            "_view_count": null,
            "_view_module": "@jupyter-widgets/base",
            "_view_module_version": "1.2.0",
            "_view_name": "LayoutView",
            "align_content": null,
            "align_items": null,
            "align_self": null,
            "border": null,
            "bottom": null,
            "display": null,
            "flex": null,
            "flex_flow": null,
            "grid_area": null,
            "grid_auto_columns": null,
            "grid_auto_flow": null,
            "grid_auto_rows": null,
            "grid_column": null,
            "grid_gap": null,
            "grid_row": null,
            "grid_template_areas": null,
            "grid_template_columns": null,
            "grid_template_rows": null,
            "height": null,
            "justify_content": null,
            "justify_items": null,
            "left": null,
            "margin": null,
            "max_height": null,
            "max_width": null,
            "min_height": null,
            "min_width": null,
            "object_fit": null,
            "object_position": null,
            "order": null,
            "overflow": null,
            "overflow_x": null,
            "overflow_y": null,
            "padding": null,
            "right": null,
            "top": null,
            "visibility": null,
            "width": null
          }
        },
        "2a5b05a662e04ac89a13e4fb0225181d": {
          "model_module": "@jupyter-widgets/controls",
          "model_name": "ProgressStyleModel",
          "model_module_version": "1.5.0",
          "state": {
            "_model_module": "@jupyter-widgets/controls",
            "_model_module_version": "1.5.0",
            "_model_name": "ProgressStyleModel",
            "_view_count": null,
            "_view_module": "@jupyter-widgets/base",
            "_view_module_version": "1.2.0",
            "_view_name": "StyleView",
            "bar_color": null,
            "description_width": ""
          }
        },
        "019adaac9e9b4878b3e9d77cd752c7c7": {
          "model_module": "@jupyter-widgets/base",
          "model_name": "LayoutModel",
          "model_module_version": "1.2.0",
          "state": {
            "_model_module": "@jupyter-widgets/base",
            "_model_module_version": "1.2.0",
            "_model_name": "LayoutModel",
            "_view_count": null,
            "_view_module": "@jupyter-widgets/base",
            "_view_module_version": "1.2.0",
            "_view_name": "LayoutView",
            "align_content": null,
            "align_items": null,
            "align_self": null,
            "border": null,
            "bottom": null,
            "display": null,
            "flex": null,
            "flex_flow": null,
            "grid_area": null,
            "grid_auto_columns": null,
            "grid_auto_flow": null,
            "grid_auto_rows": null,
            "grid_column": null,
            "grid_gap": null,
            "grid_row": null,
            "grid_template_areas": null,
            "grid_template_columns": null,
            "grid_template_rows": null,
            "height": null,
            "justify_content": null,
            "justify_items": null,
            "left": null,
            "margin": null,
            "max_height": null,
            "max_width": null,
            "min_height": null,
            "min_width": null,
            "object_fit": null,
            "object_position": null,
            "order": null,
            "overflow": null,
            "overflow_x": null,
            "overflow_y": null,
            "padding": null,
            "right": null,
            "top": null,
            "visibility": null,
            "width": null
          }
        },
        "ed1557b3ea0b4d48bec6bbf746384b8a": {
          "model_module": "@jupyter-widgets/controls",
          "model_name": "DescriptionStyleModel",
          "model_module_version": "1.5.0",
          "state": {
            "_model_module": "@jupyter-widgets/controls",
            "_model_module_version": "1.5.0",
            "_model_name": "DescriptionStyleModel",
            "_view_count": null,
            "_view_module": "@jupyter-widgets/base",
            "_view_module_version": "1.2.0",
            "_view_name": "StyleView",
            "description_width": ""
          }
        }
      }
    }
  },
  "nbformat": 4,
  "nbformat_minor": 0
}