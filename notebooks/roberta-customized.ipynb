{
 "cells": [
  {
   "cell_type": "code",
   "execution_count": 2,
   "metadata": {
    "execution": {
     "iopub.execute_input": "2024-11-26T00:51:41.313381Z",
     "iopub.status.busy": "2024-11-26T00:51:41.312584Z",
     "iopub.status.idle": "2024-11-26T00:51:55.623591Z",
     "shell.execute_reply": "2024-11-26T00:51:55.622832Z",
     "shell.execute_reply.started": "2024-11-26T00:51:41.313346Z"
    },
    "trusted": true
   },
   "outputs": [
    {
     "name": "stdout",
     "output_type": "stream",
     "text": [
      "Requirement already satisfied: datasets in /opt/conda/lib/python3.10/site-packages (3.0.1)\n",
      "Requirement already satisfied: filelock in /opt/conda/lib/python3.10/site-packages (from datasets) (3.15.1)\n",
      "Requirement already satisfied: numpy>=1.17 in /opt/conda/lib/python3.10/site-packages (from datasets) (1.26.4)\n",
      "Requirement already satisfied: pyarrow>=15.0.0 in /opt/conda/lib/python3.10/site-packages (from datasets) (16.1.0)\n",
      "Requirement already satisfied: dill<0.3.9,>=0.3.0 in /opt/conda/lib/python3.10/site-packages (from datasets) (0.3.8)\n",
      "Requirement already satisfied: pandas in /opt/conda/lib/python3.10/site-packages (from datasets) (2.2.2)\n",
      "Requirement already satisfied: requests>=2.32.2 in /opt/conda/lib/python3.10/site-packages (from datasets) (2.32.3)\n",
      "Requirement already satisfied: tqdm>=4.66.3 in /opt/conda/lib/python3.10/site-packages (from datasets) (4.66.4)\n",
      "Requirement already satisfied: xxhash in /opt/conda/lib/python3.10/site-packages (from datasets) (3.4.1)\n",
      "Requirement already satisfied: multiprocess in /opt/conda/lib/python3.10/site-packages (from datasets) (0.70.16)\n",
      "Requirement already satisfied: fsspec<=2024.6.1,>=2023.1.0 in /opt/conda/lib/python3.10/site-packages (from fsspec[http]<=2024.6.1,>=2023.1.0->datasets) (2024.6.1)\n",
      "Requirement already satisfied: aiohttp in /opt/conda/lib/python3.10/site-packages (from datasets) (3.9.5)\n",
      "Requirement already satisfied: huggingface-hub>=0.22.0 in /opt/conda/lib/python3.10/site-packages (from datasets) (0.25.1)\n",
      "Requirement already satisfied: packaging in /opt/conda/lib/python3.10/site-packages (from datasets) (21.3)\n",
      "Requirement already satisfied: pyyaml>=5.1 in /opt/conda/lib/python3.10/site-packages (from datasets) (6.0.2)\n",
      "Requirement already satisfied: aiosignal>=1.1.2 in /opt/conda/lib/python3.10/site-packages (from aiohttp->datasets) (1.3.1)\n",
      "Requirement already satisfied: attrs>=17.3.0 in /opt/conda/lib/python3.10/site-packages (from aiohttp->datasets) (23.2.0)\n",
      "Requirement already satisfied: frozenlist>=1.1.1 in /opt/conda/lib/python3.10/site-packages (from aiohttp->datasets) (1.4.1)\n",
      "Requirement already satisfied: multidict<7.0,>=4.5 in /opt/conda/lib/python3.10/site-packages (from aiohttp->datasets) (6.0.5)\n",
      "Requirement already satisfied: yarl<2.0,>=1.0 in /opt/conda/lib/python3.10/site-packages (from aiohttp->datasets) (1.9.4)\n",
      "Requirement already satisfied: async-timeout<5.0,>=4.0 in /opt/conda/lib/python3.10/site-packages (from aiohttp->datasets) (4.0.3)\n",
      "Requirement already satisfied: typing-extensions>=3.7.4.3 in /opt/conda/lib/python3.10/site-packages (from huggingface-hub>=0.22.0->datasets) (4.12.2)\n",
      "Requirement already satisfied: pyparsing!=3.0.5,>=2.0.2 in /opt/conda/lib/python3.10/site-packages (from packaging->datasets) (3.1.2)\n",
      "Requirement already satisfied: charset-normalizer<4,>=2 in /opt/conda/lib/python3.10/site-packages (from requests>=2.32.2->datasets) (3.3.2)\n",
      "Requirement already satisfied: idna<4,>=2.5 in /opt/conda/lib/python3.10/site-packages (from requests>=2.32.2->datasets) (3.7)\n",
      "Requirement already satisfied: urllib3<3,>=1.21.1 in /opt/conda/lib/python3.10/site-packages (from requests>=2.32.2->datasets) (1.26.18)\n",
      "Requirement already satisfied: certifi>=2017.4.17 in /opt/conda/lib/python3.10/site-packages (from requests>=2.32.2->datasets) (2024.8.30)\n",
      "Requirement already satisfied: python-dateutil>=2.8.2 in /opt/conda/lib/python3.10/site-packages (from pandas->datasets) (2.9.0.post0)\n",
      "Requirement already satisfied: pytz>=2020.1 in /opt/conda/lib/python3.10/site-packages (from pandas->datasets) (2024.1)\n",
      "Requirement already satisfied: tzdata>=2022.7 in /opt/conda/lib/python3.10/site-packages (from pandas->datasets) (2024.1)\n",
      "Requirement already satisfied: six>=1.5 in /opt/conda/lib/python3.10/site-packages (from python-dateutil>=2.8.2->pandas->datasets) (1.16.0)\n"
     ]
    }
   ],
   "source": [
    "!pip install datasets\n",
    "import os\n",
    "import re\n",
    "import torch\n",
    "import numpy as np\n",
    "from torch.utils.data import DataLoader\n",
    "from transformers import AutoTokenizer, AutoModel\n",
    "from datasets import load_dataset, Dataset\n",
    "from torch import nn\n",
    "from sklearn.metrics import classification_report\n",
    "from tqdm import tqdm\n",
    "from datasets import load_dataset, Dataset"
   ]
  },
  {
   "cell_type": "code",
   "execution_count": 3,
   "metadata": {
    "execution": {
     "iopub.execute_input": "2024-11-26T00:51:55.626387Z",
     "iopub.status.busy": "2024-11-26T00:51:55.625303Z",
     "iopub.status.idle": "2024-11-26T00:51:55.632330Z",
     "shell.execute_reply": "2024-11-26T00:51:55.631393Z",
     "shell.execute_reply.started": "2024-11-26T00:51:55.626335Z"
    },
    "trusted": true
   },
   "outputs": [],
   "source": [
    "# ---------------------------------\n",
    "# Preprocessing Functions\n",
    "# ---------------------------------\n",
    "def preprocess_text(text):\n",
    "    \"\"\"Clean text by removing mentions, links, Unicode, and extra spaces.\"\"\"\n",
    "    mentions_pattern = re.compile(r'(@.*?)[\\s]')\n",
    "    links_pattern = re.compile(r'https?:\\/\\/[^\\s\\n\\r]+')\n",
    "    multi_spaces_pattern = re.compile(r'\\s+')\n",
    "\n",
    "    text = mentions_pattern.sub(' ', text)\n",
    "    text = links_pattern.sub(' ', text)\n",
    "    text = ''.join(char for char in text if ord(char) < 128)  # Remove Unicode\n",
    "    text = multi_spaces_pattern.sub(' ', text).strip()\n",
    "    return text\n",
    "\n",
    "def preprocess_dataset(dataset):\n",
    "    \"\"\"Apply text preprocessing to a dataset.\"\"\"\n",
    "    return dataset.map(lambda example: {\"text\": preprocess_text(example[\"text\"])})\n"
   ]
  },
  {
   "cell_type": "code",
   "execution_count": 4,
   "metadata": {
    "execution": {
     "iopub.execute_input": "2024-11-26T00:51:55.634401Z",
     "iopub.status.busy": "2024-11-26T00:51:55.633439Z",
     "iopub.status.idle": "2024-11-26T00:51:55.642333Z",
     "shell.execute_reply": "2024-11-26T00:51:55.641503Z",
     "shell.execute_reply.started": "2024-11-26T00:51:55.634354Z"
    },
    "trusted": true
   },
   "outputs": [],
   "source": [
    "# ---------------------------------\n",
    "# Dataset Preparation Function\n",
    "# ---------------------------------\n",
    "def prepare_dataloader(dataset, tokenizer, max_length=512, batch_size=8, shuffle=False):\n",
    "    \"\"\"Efficiently prepare a PyTorch DataLoader.\"\"\"\n",
    "    \n",
    "    # Define the tokenization function\n",
    "    def tokenize_function(example):\n",
    "        return tokenizer(\n",
    "            example[\"text\"],\n",
    "            padding=\"max_length\",\n",
    "            max_length=max_length,\n",
    "            truncation=True\n",
    "        )\n",
    "    \n",
    "    # Apply tokenization to the dataset\n",
    "    tokenized_dataset = dataset.map(tokenize_function, batched=True)\n",
    "\n",
    "    # Set format for PyTorch DataLoader\n",
    "    columns = [\"input_ids\", \"attention_mask\"]\n",
    "    if \"label\" in dataset.column_names:\n",
    "        columns.append(\"label\")\n",
    "    tokenized_dataset.set_format(type=\"torch\", columns=columns)\n",
    "\n",
    "    # Return a DataLoader\n",
    "    return DataLoader(tokenized_dataset, batch_size=batch_size, shuffle=shuffle)\n"
   ]
  },
  {
   "cell_type": "code",
   "execution_count": 5,
   "metadata": {
    "execution": {
     "iopub.execute_input": "2024-11-26T00:51:55.644583Z",
     "iopub.status.busy": "2024-11-26T00:51:55.644310Z",
     "iopub.status.idle": "2024-11-26T00:51:55.653143Z",
     "shell.execute_reply": "2024-11-26T00:51:55.652403Z",
     "shell.execute_reply.started": "2024-11-26T00:51:55.644558Z"
    },
    "trusted": true
   },
   "outputs": [],
   "source": [
    "# ---------------------------------\n",
    "# Custom Model Definition\n",
    "# ---------------------------------\n",
    "class TextClassifier(nn.Module):\n",
    "    \"\"\"Custom classifier with additional fully connected layers.\"\"\"\n",
    "    def __init__(self, base_model):\n",
    "        super(TextClassifier, self).__init__()\n",
    "        self.base_model = base_model\n",
    "        self.fc1 = nn.Linear(768, 32)\n",
    "        self.fc2 = nn.Linear(32, 1)\n",
    "        self.activation = nn.ReLU()\n",
    "        self.output = nn.Sigmoid()\n",
    "\n",
    "    def forward(self, input_ids, attention_mask):\n",
    "        base_output = self.base_model(input_ids=input_ids, attention_mask=attention_mask)[0][:, 0]\n",
    "        x = self.fc1(base_output)\n",
    "        x = self.activation(x)\n",
    "        x = self.fc2(x)\n",
    "        return self.output(x)\n"
   ]
  },
  {
   "cell_type": "code",
   "execution_count": 6,
   "metadata": {
    "execution": {
     "iopub.execute_input": "2024-11-26T00:51:55.654606Z",
     "iopub.status.busy": "2024-11-26T00:51:55.654280Z",
     "iopub.status.idle": "2024-11-26T00:51:55.668689Z",
     "shell.execute_reply": "2024-11-26T00:51:55.667791Z",
     "shell.execute_reply.started": "2024-11-26T00:51:55.654579Z"
    },
    "trusted": true
   },
   "outputs": [],
   "source": [
    "# ---------------------------------\n",
    "# Training Function\n",
    "# ---------------------------------\n",
    "def train_model(model, train_loader, val_loader, learning_rate, num_epochs, checkpoint_dir):\n",
    "    \"\"\"Train the model with checkpointing and early stopping.\"\"\"\n",
    "    device = torch.device(\"cuda\" if torch.cuda.is_available() else \"cpu\")\n",
    "    criterion = nn.BCELoss()\n",
    "    optimizer = torch.optim.AdamW(model.parameters(), lr=learning_rate)\n",
    "    model = model.to(device)\n",
    "\n",
    "    best_val_loss = float('inf')\n",
    "    early_stop_count = 0\n",
    "    saved_checkpoints = []  # Track saved checkpoints\n",
    "    latest_checkpoint = os.path.join(checkpoint_dir, \"latest_checkpoint.pt\")\n",
    "\n",
    "    # Resume training if checkpoint exists\n",
    "    start_epoch = 0\n",
    "    if os.path.exists(latest_checkpoint):\n",
    "        checkpoint = torch.load(latest_checkpoint)\n",
    "        model.load_state_dict(checkpoint[\"model_state_dict\"])\n",
    "        optimizer.load_state_dict(checkpoint[\"optimizer_state_dict\"])\n",
    "        start_epoch = checkpoint[\"epoch\"] + 1\n",
    "        best_val_loss = checkpoint[\"best_val_loss\"]\n",
    "        saved_checkpoints = checkpoint.get(\"saved_checkpoints\", [])\n",
    "        print(f\"Resuming training from epoch {start_epoch}...\")\n",
    "\n",
    "    for epoch in range(start_epoch, num_epochs):\n",
    "        model.train()\n",
    "        total_train_loss, total_train_acc = 0, 0\n",
    "\n",
    "        # Training loop\n",
    "        for batch in tqdm(train_loader):\n",
    "            input_ids = batch[\"input_ids\"].to(device)\n",
    "            attention_mask = batch[\"attention_mask\"].to(device)\n",
    "            labels = batch[\"label\"].to(device)\n",
    "\n",
    "            optimizer.zero_grad()\n",
    "            outputs = model(input_ids=input_ids, attention_mask=attention_mask)\n",
    "            loss = criterion(outputs, labels.float().unsqueeze(1))\n",
    "            loss.backward()\n",
    "            optimizer.step()\n",
    "\n",
    "            total_train_loss += loss.item()\n",
    "            total_train_acc += ((outputs >= 0.5).int() == labels.unsqueeze(1)).sum().item()\n",
    "\n",
    "        # Validation loop\n",
    "        model.eval()\n",
    "        total_val_loss, total_val_acc = 0, 0\n",
    "        with torch.no_grad():\n",
    "            for batch in val_loader:\n",
    "                input_ids = batch[\"input_ids\"].to(device)\n",
    "                attention_mask = batch[\"attention_mask\"].to(device)\n",
    "                labels = batch[\"label\"].to(device)\n",
    "\n",
    "                outputs = model(input_ids=input_ids, attention_mask=attention_mask)\n",
    "                loss = criterion(outputs, labels.float().unsqueeze(1))\n",
    "\n",
    "                total_val_loss += loss.item()\n",
    "                total_val_acc += ((outputs >= 0.5).int() == labels.unsqueeze(1)).sum().item()\n",
    "\n",
    "        print(f\"Epoch {epoch + 1}/{num_epochs} | Train Loss: {total_train_loss / len(train_loader):.4f}, \"\n",
    "              f\"Train Acc: {total_train_acc / len(train_loader.dataset):.4f} | \"\n",
    "              f\"Val Loss: {total_val_loss / len(val_loader):.4f}, \"\n",
    "              f\"Val Acc: {total_val_acc / len(val_loader.dataset):.4f}\")\n",
    "\n",
    "        # Save checkpoint\n",
    "        current_checkpoint = os.path.join(checkpoint_dir, f\"checkpoint_epoch_{epoch + 1}.pt\")\n",
    "        torch.save({\n",
    "            \"epoch\": epoch,\n",
    "            \"model_state_dict\": model.state_dict(),\n",
    "            \"optimizer_state_dict\": optimizer.state_dict(),\n",
    "            \"best_val_loss\": best_val_loss,\n",
    "            \"saved_checkpoints\": saved_checkpoints\n",
    "        }, current_checkpoint)\n",
    "\n",
    "        # Manage checkpoint list (limit to latest 2)\n",
    "        saved_checkpoints.append(current_checkpoint)\n",
    "        if len(saved_checkpoints) > 2:  # Keep only the latest 2 checkpoints\n",
    "            oldest_checkpoint = saved_checkpoints.pop(0)\n",
    "            if os.path.exists(oldest_checkpoint):\n",
    "                os.remove(oldest_checkpoint)\n",
    "\n",
    "        # Save the latest checkpoint tracker\n",
    "        torch.save({\n",
    "            \"epoch\": epoch,\n",
    "            \"model_state_dict\": model.state_dict(),\n",
    "            \"optimizer_state_dict\": optimizer.state_dict(),\n",
    "            \"best_val_loss\": best_val_loss,\n",
    "            \"saved_checkpoints\": saved_checkpoints\n",
    "        }, latest_checkpoint)\n",
    "\n",
    "        # Early stopping logic\n",
    "        if total_val_loss < best_val_loss:\n",
    "            best_val_loss = total_val_loss\n",
    "            early_stop_count = 0\n",
    "        else:\n",
    "            early_stop_count += 1\n",
    "            if early_stop_count >= 3:\n",
    "                print(\"Early stopping...\")\n",
    "                break"
   ]
  },
  {
   "cell_type": "code",
   "execution_count": 7,
   "metadata": {
    "execution": {
     "iopub.execute_input": "2024-11-26T00:51:55.669899Z",
     "iopub.status.busy": "2024-11-26T00:51:55.669588Z",
     "iopub.status.idle": "2024-11-26T00:51:55.683399Z",
     "shell.execute_reply": "2024-11-26T00:51:55.682595Z",
     "shell.execute_reply.started": "2024-11-26T00:51:55.669840Z"
    },
    "trusted": true
   },
   "outputs": [],
   "source": [
    "# ---------------------------------\n",
    "# Evaluation Function\n",
    "# ---------------------------------\n",
    "def evaluate_model(model, test_loader, checkpoint_path):\n",
    "    \"\"\"Evaluate the model on the test set.\"\"\"\n",
    "    device = torch.device(\"cuda\" if torch.cuda.is_available() else \"cpu\")\n",
    "    model.load_state_dict(torch.load(checkpoint_path)[\"model_state_dict\"])\n",
    "    model = model.to(device)\n",
    "    model.eval()\n",
    "\n",
    "    predictions, targets = [], []\n",
    "    with torch.no_grad():\n",
    "        for input_ids, attention_mask, labels in test_loader:\n",
    "            input_ids, attention_mask = input_ids.to(device), attention_mask.to(device)\n",
    "            outputs = model(input_ids=input_ids, attention_mask=attention_mask)\n",
    "            predictions.extend((outputs >= 0.5).int().cpu().numpy())\n",
    "            targets.extend(labels.numpy())\n",
    "    print(classification_report(targets, predictions))\n"
   ]
  },
  {
   "cell_type": "code",
   "execution_count": 8,
   "metadata": {
    "execution": {
     "iopub.execute_input": "2024-11-26T00:51:55.684557Z",
     "iopub.status.busy": "2024-11-26T00:51:55.684322Z",
     "iopub.status.idle": "2024-11-26T00:57:04.768177Z",
     "shell.execute_reply": "2024-11-26T00:57:04.767284Z",
     "shell.execute_reply.started": "2024-11-26T00:51:55.684527Z"
    },
    "trusted": true
   },
   "outputs": [
    {
     "data": {
      "application/vnd.jupyter.widget-view+json": {
       "model_id": "c54a959bbbc7473c89563c9490009662",
       "version_major": 2,
       "version_minor": 0
      },
      "text/plain": [
       "README.md:   0%|          | 0.00/588 [00:00<?, ?B/s]"
      ]
     },
     "metadata": {},
     "output_type": "display_data"
    },
    {
     "data": {
      "application/vnd.jupyter.widget-view+json": {
       "model_id": "15227b72362c41fea5253c783c2a9ee0",
       "version_major": 2,
       "version_minor": 0
      },
      "text/plain": [
       "train-00000-of-00002.parquet:   0%|          | 0.00/287M [00:00<?, ?B/s]"
      ]
     },
     "metadata": {},
     "output_type": "display_data"
    },
    {
     "data": {
      "application/vnd.jupyter.widget-view+json": {
       "model_id": "c85ce4a14c714068bdf06daa51e54958",
       "version_major": 2,
       "version_minor": 0
      },
      "text/plain": [
       "train-00001-of-00002.parquet:   0%|          | 0.00/286M [00:00<?, ?B/s]"
      ]
     },
     "metadata": {},
     "output_type": "display_data"
    },
    {
     "data": {
      "application/vnd.jupyter.widget-view+json": {
       "model_id": "1914618d32b3437599f52f08ba1f1370",
       "version_major": 2,
       "version_minor": 0
      },
      "text/plain": [
       "dev-00000-of-00001.parquet:   0%|          | 0.00/246M [00:00<?, ?B/s]"
      ]
     },
     "metadata": {},
     "output_type": "display_data"
    },
    {
     "data": {
      "application/vnd.jupyter.widget-view+json": {
       "model_id": "b874ee85312b459cb1e40d50bf8c417f",
       "version_major": 2,
       "version_minor": 0
      },
      "text/plain": [
       "Generating train split:   0%|          | 0/610767 [00:00<?, ? examples/s]"
      ]
     },
     "metadata": {},
     "output_type": "display_data"
    },
    {
     "data": {
      "application/vnd.jupyter.widget-view+json": {
       "model_id": "dd095b82f7a44cb4bf62629d2dc568fa",
       "version_major": 2,
       "version_minor": 0
      },
      "text/plain": [
       "Generating dev split:   0%|          | 0/261758 [00:00<?, ? examples/s]"
      ]
     },
     "metadata": {},
     "output_type": "display_data"
    },
    {
     "data": {
      "application/vnd.jupyter.widget-view+json": {
       "model_id": "12ccc60d5e8f4e7ca91b8d4443fbab05",
       "version_major": 2,
       "version_minor": 0
      },
      "text/plain": [
       "tokenizer_config.json:   0%|          | 0.00/25.0 [00:00<?, ?B/s]"
      ]
     },
     "metadata": {},
     "output_type": "display_data"
    },
    {
     "data": {
      "application/vnd.jupyter.widget-view+json": {
       "model_id": "3e2e5137457549b099bcda826cb976e2",
       "version_major": 2,
       "version_minor": 0
      },
      "text/plain": [
       "config.json:   0%|          | 0.00/481 [00:00<?, ?B/s]"
      ]
     },
     "metadata": {},
     "output_type": "display_data"
    },
    {
     "data": {
      "application/vnd.jupyter.widget-view+json": {
       "model_id": "cccd1b1183ec4534a6d48c1cdb0d1950",
       "version_major": 2,
       "version_minor": 0
      },
      "text/plain": [
       "vocab.json:   0%|          | 0.00/899k [00:00<?, ?B/s]"
      ]
     },
     "metadata": {},
     "output_type": "display_data"
    },
    {
     "data": {
      "application/vnd.jupyter.widget-view+json": {
       "model_id": "e772d4dd31244a5c98721f3505327eb3",
       "version_major": 2,
       "version_minor": 0
      },
      "text/plain": [
       "merges.txt:   0%|          | 0.00/456k [00:00<?, ?B/s]"
      ]
     },
     "metadata": {},
     "output_type": "display_data"
    },
    {
     "data": {
      "application/vnd.jupyter.widget-view+json": {
       "model_id": "1e38e8ea51bc4cafb44f58bd481ff4b7",
       "version_major": 2,
       "version_minor": 0
      },
      "text/plain": [
       "tokenizer.json:   0%|          | 0.00/1.36M [00:00<?, ?B/s]"
      ]
     },
     "metadata": {},
     "output_type": "display_data"
    },
    {
     "name": "stderr",
     "output_type": "stream",
     "text": [
      "/opt/conda/lib/python3.10/site-packages/transformers/tokenization_utils_base.py:1617: FutureWarning: `clean_up_tokenization_spaces` was not set. It will be set to `True` by default. This behavior will be deprecated in transformers v4.45, and will be then set to `False` by default. For more details check this issue: https://github.com/huggingface/transformers/issues/31884\n",
      "  warnings.warn(\n"
     ]
    },
    {
     "data": {
      "application/vnd.jupyter.widget-view+json": {
       "model_id": "e628a32e1d274234894f45d5695ef74a",
       "version_major": 2,
       "version_minor": 0
      },
      "text/plain": [
       "model.safetensors:   0%|          | 0.00/499M [00:00<?, ?B/s]"
      ]
     },
     "metadata": {},
     "output_type": "display_data"
    },
    {
     "name": "stderr",
     "output_type": "stream",
     "text": [
      "Some weights of RobertaModel were not initialized from the model checkpoint at roberta-base and are newly initialized: ['roberta.pooler.dense.bias', 'roberta.pooler.dense.weight']\n",
      "You should probably TRAIN this model on a down-stream task to be able to use it for predictions and inference.\n"
     ]
    },
    {
     "data": {
      "application/vnd.jupyter.widget-view+json": {
       "model_id": "889949a5cb7842fda5023b2d01c03ca4",
       "version_major": 2,
       "version_minor": 0
      },
      "text/plain": [
       "Map:   0%|          | 0/610767 [00:00<?, ? examples/s]"
      ]
     },
     "metadata": {},
     "output_type": "display_data"
    },
    {
     "data": {
      "application/vnd.jupyter.widget-view+json": {
       "model_id": "d9679b83cd9745b6a8609029e78259a0",
       "version_major": 2,
       "version_minor": 0
      },
      "text/plain": [
       "Map:   0%|          | 0/261758 [00:00<?, ? examples/s]"
      ]
     },
     "metadata": {},
     "output_type": "display_data"
    }
   ],
   "source": [
    "# ---------------------------------\n",
    "# Main Workflow\n",
    "# ---------------------------------\n",
    "\n",
    "# Load training and validation datasets\n",
    "dataset = load_dataset(\"Jinyan1/COLING_2025_MGT_en\")\n",
    "\n",
    "# Load tokenizer and base model\n",
    "tokenizer = AutoTokenizer.from_pretrained(\"roberta-base\")\n",
    "base_model = AutoModel.from_pretrained(\"roberta-base\")\n",
    "\n",
    "# Preprocess datasets\n",
    "train_data = preprocess_dataset(dataset[\"train\"])\n",
    "dev_data = preprocess_dataset(dataset[\"dev\"])"
   ]
  },
  {
   "cell_type": "code",
   "execution_count": 9,
   "metadata": {
    "execution": {
     "iopub.execute_input": "2024-11-26T00:57:04.770141Z",
     "iopub.status.busy": "2024-11-26T00:57:04.769519Z",
     "iopub.status.idle": "2024-11-26T01:04:51.948682Z",
     "shell.execute_reply": "2024-11-26T01:04:51.948060Z",
     "shell.execute_reply.started": "2024-11-26T00:57:04.770098Z"
    },
    "trusted": true
   },
   "outputs": [
    {
     "data": {
      "application/vnd.jupyter.widget-view+json": {
       "model_id": "40733267b2d24c1e83b9c5d37369b8aa",
       "version_major": 2,
       "version_minor": 0
      },
      "text/plain": [
       "Map:   0%|          | 0/610767 [00:00<?, ? examples/s]"
      ]
     },
     "metadata": {},
     "output_type": "display_data"
    },
    {
     "data": {
      "application/vnd.jupyter.widget-view+json": {
       "model_id": "0e3e105e144f4d6ba859a164ae7bb6b9",
       "version_major": 2,
       "version_minor": 0
      },
      "text/plain": [
       "Map:   0%|          | 0/261758 [00:00<?, ? examples/s]"
      ]
     },
     "metadata": {},
     "output_type": "display_data"
    }
   ],
   "source": [
    "# Prepare data loaders\n",
    "train_loader = prepare_dataloader(train_data, tokenizer, batch_size=8, shuffle=True)\n",
    "val_loader = prepare_dataloader(dev_data, tokenizer, batch_size=8)\n",
    "\n",
    "# Initialize custom model\n",
    "model = TextClassifier(base_model)"
   ]
  },
  {
   "cell_type": "code",
   "execution_count": null,
   "metadata": {
    "trusted": true
   },
   "outputs": [],
   "source": [
    "# Define checkpoint directory\n",
    "checkpoint_dir = \"/kaggle/working/roberta-v1.2-checkpoints\"\n",
    "os.makedirs(checkpoint_dir, exist_ok=True)\n",
    "\n",
    "# Train the model\n",
    "train_model(model, train_loader, val_loader, learning_rate=1e-5, num_epochs=3, checkpoint_dir=checkpoint_dir)"
   ]
  },
  {
   "cell_type": "code",
   "execution_count": null,
   "metadata": {
    "trusted": true
   },
   "outputs": [],
   "source": [
    "# Evaluate the model\n",
    "import json\n",
    "import pandas as pd\n",
    "\n",
    "# Replace 'path_to_your_test_file.jsonl' with the actual file path of your test dataset\n",
    "jsonl_file_path = '/kaggle/input/roberta-test/test_set_en_with_label.jsonl'\n",
    "\n",
    "# Load JSONL file into a list of dictionaries\n",
    "with open(jsonl_file_path, 'r') as f:\n",
    "    test_data_list = [json.loads(line) for line in f]\n",
    "\n",
    "test_data = preprocess_dataset(pd.DataFrame(test_data_list))\n",
    "test_loader = prepare_dataloader(test_data.to_pandas(), tokenizer, batch_size=8)\n",
    "evaluate_model(model, test_loader, os.path.join(checkpoint_dir, \"latest_checkpoint.pt\"))"
   ]
  }
 ],
 "metadata": {
  "kaggle": {
   "accelerator": "nvidiaTeslaT4",
   "dataSources": [
    {
     "datasetId": 6064389,
     "sourceId": 9877701,
     "sourceType": "datasetVersion"
    }
   ],
   "dockerImageVersionId": 30787,
   "isGpuEnabled": true,
   "isInternetEnabled": true,
   "language": "python",
   "sourceType": "notebook"
  },
  "kernelspec": {
   "display_name": "Python 3",
   "language": "python",
   "name": "python3"
  },
  "language_info": {
   "codemirror_mode": {
    "name": "ipython",
    "version": 3
   },
   "file_extension": ".py",
   "mimetype": "text/x-python",
   "name": "python",
   "nbconvert_exporter": "python",
   "pygments_lexer": "ipython3",
   "version": "3.10.14"
  }
 },
 "nbformat": 4,
 "nbformat_minor": 4
}
